{
  "nbformat": 4,
  "nbformat_minor": 0,
  "metadata": {
    "colab": {
      "name": "CNN-2CONV-1denselayer",
      "provenance": [],
      "collapsed_sections": []
    },
    "kernelspec": {
      "name": "python3",
      "display_name": "Python 3"
    },
    "language_info": {
      "name": "python"
    },
    "accelerator": "GPU"
  },
  "cells": [
    {
      "cell_type": "code",
      "metadata": {
        "id": "jplHc9HhLYKC"
      },
      "source": [
        "import numpy as np\n",
        "from tensorflow import keras\n",
        "from tensorflow.keras import backend as K\n",
        "from tensorflow.keras.models import Model, Sequential\n",
        "from tensorflow.keras.layers import Dense, Dropout, Flatten, Conv2D, MaxPool2D, Input\n",
        "from tensorflow.keras.datasets import fashion_mnist"
      ],
      "execution_count": null,
      "outputs": []
    },
    {
      "cell_type": "code",
      "metadata": {
        "colab": {
          "base_uri": "https://localhost:8080/"
        },
        "id": "cV6CIh06LcJx",
        "outputId": "7f1760ab-999e-4097-a03b-bb9518d6b176"
      },
      "source": [
        "(x_train, y_train), (x_test, y_test) = fashion_mnist.load_data()\n",
        "x_train = x_train.astype('float32') / 255.0\n",
        "x_test = x_test.astype('float32') / 255.0\n",
        "\n",
        "x_train.shape, x_test.shape, y_train.shape, y_test.shape"
      ],
      "execution_count": null,
      "outputs": [
        {
          "output_type": "stream",
          "text": [
            "Downloading data from https://storage.googleapis.com/tensorflow/tf-keras-datasets/train-labels-idx1-ubyte.gz\n",
            "32768/29515 [=================================] - 0s 0us/step\n",
            "Downloading data from https://storage.googleapis.com/tensorflow/tf-keras-datasets/train-images-idx3-ubyte.gz\n",
            "26427392/26421880 [==============================] - 1s 0us/step\n",
            "Downloading data from https://storage.googleapis.com/tensorflow/tf-keras-datasets/t10k-labels-idx1-ubyte.gz\n",
            "8192/5148 [===============================================] - 0s 0us/step\n",
            "Downloading data from https://storage.googleapis.com/tensorflow/tf-keras-datasets/t10k-images-idx3-ubyte.gz\n",
            "4423680/4422102 [==============================] - 0s 0us/step\n"
          ],
          "name": "stdout"
        },
        {
          "output_type": "execute_result",
          "data": {
            "text/plain": [
              "((60000, 28, 28), (10000, 28, 28), (60000,), (10000,))"
            ]
          },
          "metadata": {
            "tags": []
          },
          "execution_count": 3
        }
      ]
    },
    {
      "cell_type": "code",
      "metadata": {
        "id": "Xnj31booLgO2"
      },
      "source": [
        "input_shape = (x_train.shape[1:] + (1,)) # (28, 28, 1)\n",
        "num_classes = len(np.unique(y_train)) "
      ],
      "execution_count": null,
      "outputs": []
    },
    {
      "cell_type": "code",
      "metadata": {
        "id": "ECwJiZdCLj4R"
      },
      "source": [
        "y_train = keras.utils.to_categorical(y_train, num_classes)\n",
        "y_test = keras.utils.to_categorical(y_test, num_classes)"
      ],
      "execution_count": null,
      "outputs": []
    },
    {
      "cell_type": "code",
      "metadata": {
        "colab": {
          "base_uri": "https://localhost:8080/"
        },
        "id": "YI0LKVSLLmyv",
        "outputId": "3aff9a93-2e31-43d7-ea03-409535a13a11"
      },
      "source": [
        "inp = Input(shape=input_shape)\n",
        "_ = Conv2D(filters=32, kernel_size=(3, 3), activation='relu')(inp)\n",
        "_ = Conv2D(filters=64, kernel_size=(3, 3), activation='relu')(_)\n",
        "_ = MaxPool2D(pool_size=(2, 2))(_)\n",
        "_ = Dropout(0.25)(_)\n",
        "_ = Flatten()(_)\n",
        "_ = Dense(units=128, activation='relu')(_)\n",
        "_ = Dropout(0.2)(_)\n",
        "_ = Dense(units=num_classes, activation='softmax')(_)\n",
        "model = Model(inputs=inp, outputs=_)\n",
        "model.summary()"
      ],
      "execution_count": null,
      "outputs": [
        {
          "output_type": "stream",
          "text": [
            "Model: \"model\"\n",
            "_________________________________________________________________\n",
            "Layer (type)                 Output Shape              Param #   \n",
            "=================================================================\n",
            "input_1 (InputLayer)         [(None, 28, 28, 1)]       0         \n",
            "_________________________________________________________________\n",
            "conv2d (Conv2D)              (None, 26, 26, 32)        320       \n",
            "_________________________________________________________________\n",
            "conv2d_1 (Conv2D)            (None, 24, 24, 64)        18496     \n",
            "_________________________________________________________________\n",
            "max_pooling2d (MaxPooling2D) (None, 12, 12, 64)        0         \n",
            "_________________________________________________________________\n",
            "dropout (Dropout)            (None, 12, 12, 64)        0         \n",
            "_________________________________________________________________\n",
            "flatten (Flatten)            (None, 9216)              0         \n",
            "_________________________________________________________________\n",
            "dense (Dense)                (None, 128)               1179776   \n",
            "_________________________________________________________________\n",
            "dropout_1 (Dropout)          (None, 128)               0         \n",
            "_________________________________________________________________\n",
            "dense_1 (Dense)              (None, 10)                1290      \n",
            "=================================================================\n",
            "Total params: 1,199,882\n",
            "Trainable params: 1,199,882\n",
            "Non-trainable params: 0\n",
            "_________________________________________________________________\n"
          ],
          "name": "stdout"
        }
      ]
    },
    {
      "cell_type": "code",
      "metadata": {
        "colab": {
          "base_uri": "https://localhost:8080/"
        },
        "id": "M4xnpTxlLr9K",
        "outputId": "562a2cef-2018-4e00-d00e-35225a1e8bc3"
      },
      "source": [
        "model.compile(loss=keras.losses.categorical_crossentropy,\n",
        "              optimizer=keras.optimizers.Adam(), metrics=['accuracy'])\n",
        "history = model.fit(np.expand_dims(x_train, -1), y_train, batch_size=128, epochs=12, validation_split=0.3)"
      ],
      "execution_count": null,
      "outputs": [
        {
          "output_type": "stream",
          "text": [
            "Epoch 1/12\n",
            "329/329 [==============================] - 36s 18ms/step - loss: 0.7371 - accuracy: 0.7427 - val_loss: 0.3506 - val_accuracy: 0.8753\n",
            "Epoch 2/12\n",
            "329/329 [==============================] - 5s 16ms/step - loss: 0.3354 - accuracy: 0.8821 - val_loss: 0.2939 - val_accuracy: 0.8921\n",
            "Epoch 3/12\n",
            "329/329 [==============================] - 5s 16ms/step - loss: 0.2726 - accuracy: 0.8991 - val_loss: 0.2592 - val_accuracy: 0.9071\n",
            "Epoch 4/12\n",
            "329/329 [==============================] - 5s 17ms/step - loss: 0.2411 - accuracy: 0.9103 - val_loss: 0.2398 - val_accuracy: 0.9137\n",
            "Epoch 5/12\n",
            "329/329 [==============================] - 5s 17ms/step - loss: 0.2043 - accuracy: 0.9239 - val_loss: 0.2320 - val_accuracy: 0.9161\n",
            "Epoch 6/12\n",
            "329/329 [==============================] - 5s 16ms/step - loss: 0.1783 - accuracy: 0.9347 - val_loss: 0.2286 - val_accuracy: 0.9193\n",
            "Epoch 7/12\n",
            "329/329 [==============================] - 5s 16ms/step - loss: 0.1641 - accuracy: 0.9376 - val_loss: 0.2434 - val_accuracy: 0.9135\n",
            "Epoch 8/12\n",
            "329/329 [==============================] - 5s 16ms/step - loss: 0.1430 - accuracy: 0.9476 - val_loss: 0.2360 - val_accuracy: 0.9184\n",
            "Epoch 9/12\n",
            "329/329 [==============================] - 5s 16ms/step - loss: 0.1233 - accuracy: 0.9549 - val_loss: 0.2395 - val_accuracy: 0.9212\n",
            "Epoch 10/12\n",
            "329/329 [==============================] - 5s 16ms/step - loss: 0.1141 - accuracy: 0.9580 - val_loss: 0.2299 - val_accuracy: 0.9261\n",
            "Epoch 11/12\n",
            "329/329 [==============================] - 5s 16ms/step - loss: 0.1022 - accuracy: 0.9614 - val_loss: 0.2328 - val_accuracy: 0.9234\n",
            "Epoch 12/12\n",
            "329/329 [==============================] - 5s 16ms/step - loss: 0.0876 - accuracy: 0.9673 - val_loss: 0.2535 - val_accuracy: 0.9235\n"
          ],
          "name": "stdout"
        }
      ]
    },
    {
      "cell_type": "code",
      "metadata": {
        "colab": {
          "base_uri": "https://localhost:8080/"
        },
        "id": "EgJzv37VMVnI",
        "outputId": "18ff24dd-3f76-4595-b8e9-27c88e0ca0ba"
      },
      "source": [
        "loss, accuracy = model.evaluate(np.expand_dims(x_test, -1), y_test, verbose=0)\n",
        "print(loss, accuracy)\n",
        "\n"
      ],
      "execution_count": null,
      "outputs": [
        {
          "output_type": "stream",
          "text": [
            "0.2707824110984802 0.9204000234603882\n"
          ],
          "name": "stdout"
        }
      ]
    },
    {
      "cell_type": "code",
      "metadata": {
        "colab": {
          "base_uri": "https://localhost:8080/",
          "height": 337
        },
        "id": "a2IFTQ-DMbfB",
        "outputId": "f7f923c1-806d-40a2-b293-155a88a3d47c"
      },
      "source": [
        "import matplotlib.pyplot as plt\n",
        "%matplotlib inline\n",
        "\n",
        "fig, (ax1, ax2) = plt.subplots(nrows=1, ncols=2, figsize=(14, 5))\n",
        "ax1.plot(history.history['loss'], label='Train Loss')\n",
        "ax1.plot(history.history['val_loss'], label='Val Loss')\n",
        "ax1.legend()\n",
        "ax2.plot(history.history['accuracy'], label='Train Accuracy')\n",
        "ax2.plot(history.history['val_accuracy'], label='Val Accuracy')\n",
        "ax2.legend()"
      ],
      "execution_count": null,
      "outputs": [
        {
          "output_type": "execute_result",
          "data": {
            "text/plain": [
              "<matplotlib.legend.Legend at 0x7fa1a0dd75d0>"
            ]
          },
          "metadata": {
            "tags": []
          },
          "execution_count": 9
        },
        {
          "output_type": "display_data",
          "data": {
            "image/png": "[encoded data removed]",
            "text/plain": [
              "<Figure size 1008x360 with 2 Axes>"
            ]
          },
          "metadata": {
            "tags": [],
            "needs_background": "light"
          }
        }
      ]
    }
  ]
}