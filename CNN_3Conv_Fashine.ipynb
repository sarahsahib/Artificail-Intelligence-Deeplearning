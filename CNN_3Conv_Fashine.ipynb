{
  "nbformat": 4,
  "nbformat_minor": 0,
  "metadata": {
    "colab": {
      "name": "CNN-3Conv-Fashine",
      "provenance": [],
      "collapsed_sections": []
    },
    "kernelspec": {
      "name": "python3",
      "display_name": "Python 3"
    },
    "language_info": {
      "name": "python"
    },
    "accelerator": "GPU"
  },
  "cells": [
    {
      "cell_type": "code",
      "metadata": {
        "id": "0t4TYODj47Bx"
      },
      "source": [
        "import numpy as np\n",
        "import pandas as pd\n",
        "from keras.utils import to_categorical\n",
        "from sklearn.model_selection import train_test_split"
      ],
      "execution_count": 2,
      "outputs": []
    },
    {
      "cell_type": "code",
      "metadata": {
        "colab": {
          "base_uri": "https://localhost:8080/"
        },
        "id": "KpGFQxuH5UpU",
        "outputId": "f512e6fe-c28a-4ab1-f089-ec1be6cd7fa3"
      },
      "source": [
        " from google.colab import drive\n",
        " drive.mount('/content/gdrive')"
      ],
      "execution_count": 3,
      "outputs": [
        {
          "output_type": "stream",
          "text": [
            "Mounted at /content/gdrive\n"
          ],
          "name": "stdout"
        }
      ]
    },
    {
      "cell_type": "code",
      "metadata": {
        "id": "h_FxQWH85N1L"
      },
      "source": [
        "data_train = pd.read_csv('/content/gdrive/MyDrive/fashion-mnist_train.csv')\n",
        "data_test = pd.read_csv('/content/gdrive/MyDrive/fashion-mnist_test.csv')"
      ],
      "execution_count": 4,
      "outputs": []
    },
    {
      "cell_type": "code",
      "metadata": {
        "id": "E0sPT8A55v_K"
      },
      "source": [
        "X = np.array(data_train.iloc[:, 1:])\n",
        "y = to_categorical(np.array(data_train.iloc[:, 0]))"
      ],
      "execution_count": 5,
      "outputs": []
    },
    {
      "cell_type": "code",
      "metadata": {
        "id": "Bw2q4w755yHj"
      },
      "source": [
        "X_train, X_val, y_train, y_val = train_test_split(X, y, test_size=0.2, random_state=13)"
      ],
      "execution_count": 6,
      "outputs": []
    },
    {
      "cell_type": "code",
      "metadata": {
        "id": "dzmcT45p51NB"
      },
      "source": [
        "X_test = np.array(data_test.iloc[:, 1:])\n",
        "y_test = to_categorical(np.array(data_test.iloc[:, 0]))"
      ],
      "execution_count": 7,
      "outputs": []
    },
    {
      "cell_type": "code",
      "metadata": {
        "id": "BphhUUos54N9"
      },
      "source": [
        "# Each image's dimension is 28 x 28\n",
        "img_rows, img_cols = 28, 28\n",
        "input_shape = (img_rows, img_cols, 1)\n",
        "\n",
        "# Prepare the training images\n",
        "X_train = X_train.reshape(X_train.shape[0], img_rows, img_cols, 1)\n",
        "X_train = X_train.astype('float32')\n",
        "X_train /= 255\n",
        "\n",
        "# Prepare the test images\n",
        "X_test = X_test.reshape(X_test.shape[0], img_rows, img_cols, 1)\n",
        "X_test = X_test.astype('float32')\n",
        "X_test /= 255\n",
        "\n",
        "# Prepare the validation images\n",
        "X_val = X_val.reshape(X_val.shape[0], img_rows, img_cols, 1)\n",
        "X_val = X_val.astype('float32')\n",
        "X_val /= 255"
      ],
      "execution_count": 8,
      "outputs": []
    },
    {
      "cell_type": "code",
      "metadata": {
        "id": "34NPY6Sw57h3"
      },
      "source": [
        "import keras\n",
        "from keras.models import Sequential\n",
        "from keras.layers import Dense, Dropout, Flatten\n",
        "from keras.layers import Conv2D, MaxPooling2D\n",
        "\n",
        "cnn3 = Sequential()\n",
        "cnn3.add(Conv2D(32, kernel_size=(3, 3), activation='relu', input_shape=input_shape))\n",
        "cnn3.add(MaxPooling2D((2, 2)))\n",
        "cnn3.add(Dropout(0.25))\n",
        "\n",
        "cnn3.add(Conv2D(64, kernel_size=(3, 3), activation='relu'))\n",
        "cnn3.add(MaxPooling2D(pool_size=(2, 2)))\n",
        "cnn3.add(Dropout(0.25))\n",
        "\n",
        "cnn3.add(Conv2D(128, kernel_size=(3, 3), activation='relu'))\n",
        "cnn3.add(Dropout(0.4))\n",
        "\n",
        "cnn3.add(Flatten())\n",
        "\n",
        "cnn3.add(Dense(128, activation='relu'))\n",
        "cnn3.add(Dropout(0.3))\n",
        "cnn3.add(Dense(10, activation='softmax'))"
      ],
      "execution_count": 9,
      "outputs": []
    },
    {
      "cell_type": "code",
      "metadata": {
        "id": "ljWkp8G-5_QC"
      },
      "source": [
        "cnn3.compile(loss=keras.losses.categorical_crossentropy,\n",
        "              optimizer=keras.optimizers.Adam(),\n",
        "              metrics=['accuracy'])"
      ],
      "execution_count": 10,
      "outputs": []
    },
    {
      "cell_type": "code",
      "metadata": {
        "colab": {
          "base_uri": "https://localhost:8080/"
        },
        "id": "idvoBGcO6B4D",
        "outputId": "ba7b1e07-0d08-4729-a60c-5aae5345e604"
      },
      "source": [
        "cnn3.summary()"
      ],
      "execution_count": 11,
      "outputs": [
        {
          "output_type": "stream",
          "text": [
            "Model: \"sequential\"\n",
            "_________________________________________________________________\n",
            "Layer (type)                 Output Shape              Param #   \n",
            "=================================================================\n",
            "conv2d (Conv2D)              (None, 26, 26, 32)        320       \n",
            "_________________________________________________________________\n",
            "max_pooling2d (MaxPooling2D) (None, 13, 13, 32)        0         \n",
            "_________________________________________________________________\n",
            "dropout (Dropout)            (None, 13, 13, 32)        0         \n",
            "_________________________________________________________________\n",
            "conv2d_1 (Conv2D)            (None, 11, 11, 64)        18496     \n",
            "_________________________________________________________________\n",
            "max_pooling2d_1 (MaxPooling2 (None, 5, 5, 64)          0         \n",
            "_________________________________________________________________\n",
            "dropout_1 (Dropout)          (None, 5, 5, 64)          0         \n",
            "_________________________________________________________________\n",
            "conv2d_2 (Conv2D)            (None, 3, 3, 128)         73856     \n",
            "_________________________________________________________________\n",
            "dropout_2 (Dropout)          (None, 3, 3, 128)         0         \n",
            "_________________________________________________________________\n",
            "flatten (Flatten)            (None, 1152)              0         \n",
            "_________________________________________________________________\n",
            "dense (Dense)                (None, 128)               147584    \n",
            "_________________________________________________________________\n",
            "dropout_3 (Dropout)          (None, 128)               0         \n",
            "_________________________________________________________________\n",
            "dense_1 (Dense)              (None, 10)                1290      \n",
            "=================================================================\n",
            "Total params: 241,546\n",
            "Trainable params: 241,546\n",
            "Non-trainable params: 0\n",
            "_________________________________________________________________\n"
          ],
          "name": "stdout"
        }
      ]
    },
    {
      "cell_type": "code",
      "metadata": {
        "colab": {
          "base_uri": "https://localhost:8080/"
        },
        "id": "ng5NGzn46Ezt",
        "outputId": "59a45b57-282b-4543-e0f2-4f6e5c0da861"
      },
      "source": [
        "history3 = cnn3.fit(X_train, y_train,\n",
        "          batch_size=256,\n",
        "          epochs=10,\n",
        "          verbose=1,\n",
        "          validation_data=(X_val, y_val))"
      ],
      "execution_count": 12,
      "outputs": [
        {
          "output_type": "stream",
          "text": [
            "Epoch 1/10\n",
            "188/188 [==============================] - 35s 12ms/step - loss: 1.2860 - accuracy: 0.5256 - val_loss: 0.5435 - val_accuracy: 0.7912\n",
            "Epoch 2/10\n",
            "188/188 [==============================] - 2s 9ms/step - loss: 0.5737 - accuracy: 0.7853 - val_loss: 0.4285 - val_accuracy: 0.8399\n",
            "Epoch 3/10\n",
            "188/188 [==============================] - 2s 9ms/step - loss: 0.4772 - accuracy: 0.8214 - val_loss: 0.3832 - val_accuracy: 0.8608\n",
            "Epoch 4/10\n",
            "188/188 [==============================] - 2s 9ms/step - loss: 0.4219 - accuracy: 0.8460 - val_loss: 0.3528 - val_accuracy: 0.8686\n",
            "Epoch 5/10\n",
            "188/188 [==============================] - 2s 9ms/step - loss: 0.3904 - accuracy: 0.8564 - val_loss: 0.3321 - val_accuracy: 0.8785\n",
            "Epoch 6/10\n",
            "188/188 [==============================] - 2s 9ms/step - loss: 0.3649 - accuracy: 0.8679 - val_loss: 0.3125 - val_accuracy: 0.8842\n",
            "Epoch 7/10\n",
            "188/188 [==============================] - 2s 9ms/step - loss: 0.3455 - accuracy: 0.8753 - val_loss: 0.3079 - val_accuracy: 0.8867\n",
            "Epoch 8/10\n",
            "188/188 [==============================] - 2s 9ms/step - loss: 0.3295 - accuracy: 0.8806 - val_loss: 0.2886 - val_accuracy: 0.8924\n",
            "Epoch 9/10\n",
            "188/188 [==============================] - 2s 9ms/step - loss: 0.3213 - accuracy: 0.8818 - val_loss: 0.2866 - val_accuracy: 0.8959\n",
            "Epoch 10/10\n",
            "188/188 [==============================] - 2s 9ms/step - loss: 0.3085 - accuracy: 0.8863 - val_loss: 0.2846 - val_accuracy: 0.8953\n"
          ],
          "name": "stdout"
        }
      ]
    },
    {
      "cell_type": "code",
      "metadata": {
        "colab": {
          "base_uri": "https://localhost:8080/"
        },
        "id": "LSYI4fcR6ZpK",
        "outputId": "14115afe-649a-4e50-f7ef-e937e7d3d4e7"
      },
      "source": [
        "score3 = cnn3.evaluate(X_test, y_test, verbose=0)\n",
        "print('Test loss:', score3[0])\n",
        "print('Test accuracy:', score3[1])"
      ],
      "execution_count": 13,
      "outputs": [
        {
          "output_type": "stream",
          "text": [
            "Test loss: 0.2609056234359741\n",
            "Test accuracy: 0.9021999835968018\n"
          ],
          "name": "stdout"
        }
      ]
    },
    {
      "cell_type": "code",
      "metadata": {
        "id": "vtsIrhbR6cNT"
      },
      "source": [
        "from keras.preprocessing.image import ImageDataGenerator\n",
        "gen = ImageDataGenerator(rotation_range=8, width_shift_range=0.08, shear_range=0.3,\n",
        "                               height_shift_range=0.08, zoom_range=0.08)\n",
        "batches = gen.flow(X_train, y_train, batch_size=256)\n",
        "val_batches = gen.flow(X_val, y_val, batch_size=256)"
      ],
      "execution_count": 14,
      "outputs": []
    },
    {
      "cell_type": "code",
      "metadata": {
        "colab": {
          "base_uri": "https://localhost:8080/"
        },
        "id": "tjAlIxX_7AJW",
        "outputId": "4eba1016-8576-46a1-d1b2-89586c3221ea"
      },
      "source": [
        "\n",
        "history3 = cnn3.fit_generator(batches, steps_per_epoch=48000//256, epochs=50,\n",
        "                    validation_data=val_batches, validation_steps=12000//256, use_multiprocessing=True)"
      ],
      "execution_count": 15,
      "outputs": [
        {
          "output_type": "stream",
          "text": [
            "/usr/local/lib/python3.7/dist-packages/tensorflow/python/keras/engine/training.py:1844: UserWarning: `Model.fit_generator` is deprecated and will be removed in a future version. Please use `Model.fit`, which supports generators.\n",
            "  warnings.warn('`Model.fit_generator` is deprecated and '\n"
          ],
          "name": "stderr"
        },
        {
          "output_type": "stream",
          "text": [
            "Epoch 1/50\n",
            "WARNING:tensorflow:multiprocessing can interact badly with TensorFlow, causing nondeterministic deadlocks. For high performance data pipelines tf.data is recommended.\n",
            "187/187 [==============================] - ETA: 0s - loss: 0.4875 - accuracy: 0.8178WARNING:tensorflow:multiprocessing can interact badly with TensorFlow, causing nondeterministic deadlocks. For high performance data pipelines tf.data is recommended.\n",
            "187/187 [==============================] - 15s 77ms/step - loss: 0.4875 - accuracy: 0.8178 - val_loss: 0.3910 - val_accuracy: 0.8494\n",
            "Epoch 2/50\n",
            "WARNING:tensorflow:multiprocessing can interact badly with TensorFlow, causing nondeterministic deadlocks. For high performance data pipelines tf.data is recommended.\n",
            "187/187 [==============================] - ETA: 0s - loss: 0.4443 - accuracy: 0.8340WARNING:tensorflow:multiprocessing can interact badly with TensorFlow, causing nondeterministic deadlocks. For high performance data pipelines tf.data is recommended.\n",
            "187/187 [==============================] - 15s 77ms/step - loss: 0.4443 - accuracy: 0.8340 - val_loss: 0.3761 - val_accuracy: 0.8613\n",
            "Epoch 3/50\n",
            "WARNING:tensorflow:multiprocessing can interact badly with TensorFlow, causing nondeterministic deadlocks. For high performance data pipelines tf.data is recommended.\n",
            "187/187 [==============================] - ETA: 0s - loss: 0.4245 - accuracy: 0.8412WARNING:tensorflow:multiprocessing can interact badly with TensorFlow, causing nondeterministic deadlocks. For high performance data pipelines tf.data is recommended.\n",
            "187/187 [==============================] - 14s 77ms/step - loss: 0.4245 - accuracy: 0.8412 - val_loss: 0.3676 - val_accuracy: 0.8617\n",
            "Epoch 4/50\n",
            "WARNING:tensorflow:multiprocessing can interact badly with TensorFlow, causing nondeterministic deadlocks. For high performance data pipelines tf.data is recommended.\n",
            "187/187 [==============================] - ETA: 0s - loss: 0.4135 - accuracy: 0.8472WARNING:tensorflow:multiprocessing can interact badly with TensorFlow, causing nondeterministic deadlocks. For high performance data pipelines tf.data is recommended.\n",
            "187/187 [==============================] - 15s 78ms/step - loss: 0.4135 - accuracy: 0.8472 - val_loss: 0.3437 - val_accuracy: 0.8697\n",
            "Epoch 5/50\n",
            "WARNING:tensorflow:multiprocessing can interact badly with TensorFlow, causing nondeterministic deadlocks. For high performance data pipelines tf.data is recommended.\n",
            "187/187 [==============================] - ETA: 0s - loss: 0.4050 - accuracy: 0.8499WARNING:tensorflow:multiprocessing can interact badly with TensorFlow, causing nondeterministic deadlocks. For high performance data pipelines tf.data is recommended.\n",
            "187/187 [==============================] - 15s 78ms/step - loss: 0.4050 - accuracy: 0.8499 - val_loss: 0.3433 - val_accuracy: 0.8725\n",
            "Epoch 6/50\n",
            "WARNING:tensorflow:multiprocessing can interact badly with TensorFlow, causing nondeterministic deadlocks. For high performance data pipelines tf.data is recommended.\n",
            "187/187 [==============================] - ETA: 0s - loss: 0.3936 - accuracy: 0.8538WARNING:tensorflow:multiprocessing can interact badly with TensorFlow, causing nondeterministic deadlocks. For high performance data pipelines tf.data is recommended.\n",
            "187/187 [==============================] - 14s 77ms/step - loss: 0.3936 - accuracy: 0.8538 - val_loss: 0.3354 - val_accuracy: 0.8718\n",
            "Epoch 7/50\n",
            "WARNING:tensorflow:multiprocessing can interact badly with TensorFlow, causing nondeterministic deadlocks. For high performance data pipelines tf.data is recommended.\n",
            "187/187 [==============================] - ETA: 0s - loss: 0.3861 - accuracy: 0.8565WARNING:tensorflow:multiprocessing can interact badly with TensorFlow, causing nondeterministic deadlocks. For high performance data pipelines tf.data is recommended.\n",
            "187/187 [==============================] - 15s 77ms/step - loss: 0.3861 - accuracy: 0.8565 - val_loss: 0.3255 - val_accuracy: 0.8776\n",
            "Epoch 8/50\n",
            "WARNING:tensorflow:multiprocessing can interact badly with TensorFlow, causing nondeterministic deadlocks. For high performance data pipelines tf.data is recommended.\n",
            "187/187 [==============================] - ETA: 0s - loss: 0.3784 - accuracy: 0.8599WARNING:tensorflow:multiprocessing can interact badly with TensorFlow, causing nondeterministic deadlocks. For high performance data pipelines tf.data is recommended.\n",
            "187/187 [==============================] - 15s 78ms/step - loss: 0.3784 - accuracy: 0.8599 - val_loss: 0.3254 - val_accuracy: 0.8796\n",
            "Epoch 9/50\n",
            "WARNING:tensorflow:multiprocessing can interact badly with TensorFlow, causing nondeterministic deadlocks. For high performance data pipelines tf.data is recommended.\n",
            "187/187 [==============================] - ETA: 0s - loss: 0.3749 - accuracy: 0.8612WARNING:tensorflow:multiprocessing can interact badly with TensorFlow, causing nondeterministic deadlocks. For high performance data pipelines tf.data is recommended.\n",
            "187/187 [==============================] - 15s 78ms/step - loss: 0.3749 - accuracy: 0.8612 - val_loss: 0.3322 - val_accuracy: 0.8758\n",
            "Epoch 10/50\n",
            "WARNING:tensorflow:multiprocessing can interact badly with TensorFlow, causing nondeterministic deadlocks. For high performance data pipelines tf.data is recommended.\n",
            "187/187 [==============================] - ETA: 0s - loss: 0.3679 - accuracy: 0.8625WARNING:tensorflow:multiprocessing can interact badly with TensorFlow, causing nondeterministic deadlocks. For high performance data pipelines tf.data is recommended.\n",
            "187/187 [==============================] - 15s 78ms/step - loss: 0.3679 - accuracy: 0.8625 - val_loss: 0.3189 - val_accuracy: 0.8795\n",
            "Epoch 11/50\n",
            "WARNING:tensorflow:multiprocessing can interact badly with TensorFlow, causing nondeterministic deadlocks. For high performance data pipelines tf.data is recommended.\n",
            "187/187 [==============================] - ETA: 0s - loss: 0.3647 - accuracy: 0.8639WARNING:tensorflow:multiprocessing can interact badly with TensorFlow, causing nondeterministic deadlocks. For high performance data pipelines tf.data is recommended.\n",
            "187/187 [==============================] - 15s 78ms/step - loss: 0.3647 - accuracy: 0.8639 - val_loss: 0.3116 - val_accuracy: 0.8838\n",
            "Epoch 12/50\n",
            "WARNING:tensorflow:multiprocessing can interact badly with TensorFlow, causing nondeterministic deadlocks. For high performance data pipelines tf.data is recommended.\n",
            "187/187 [==============================] - ETA: 0s - loss: 0.3624 - accuracy: 0.8662WARNING:tensorflow:multiprocessing can interact badly with TensorFlow, causing nondeterministic deadlocks. For high performance data pipelines tf.data is recommended.\n",
            "187/187 [==============================] - 15s 78ms/step - loss: 0.3624 - accuracy: 0.8662 - val_loss: 0.3149 - val_accuracy: 0.8797\n",
            "Epoch 13/50\n",
            "WARNING:tensorflow:multiprocessing can interact badly with TensorFlow, causing nondeterministic deadlocks. For high performance data pipelines tf.data is recommended.\n",
            "187/187 [==============================] - ETA: 0s - loss: 0.3569 - accuracy: 0.8682WARNING:tensorflow:multiprocessing can interact badly with TensorFlow, causing nondeterministic deadlocks. For high performance data pipelines tf.data is recommended.\n",
            "187/187 [==============================] - 15s 80ms/step - loss: 0.3569 - accuracy: 0.8682 - val_loss: 0.3088 - val_accuracy: 0.8843\n",
            "Epoch 14/50\n",
            "WARNING:tensorflow:multiprocessing can interact badly with TensorFlow, causing nondeterministic deadlocks. For high performance data pipelines tf.data is recommended.\n",
            "187/187 [==============================] - ETA: 0s - loss: 0.3515 - accuracy: 0.8699WARNING:tensorflow:multiprocessing can interact badly with TensorFlow, causing nondeterministic deadlocks. For high performance data pipelines tf.data is recommended.\n",
            "187/187 [==============================] - 15s 79ms/step - loss: 0.3515 - accuracy: 0.8699 - val_loss: 0.3027 - val_accuracy: 0.8876\n",
            "Epoch 15/50\n",
            "WARNING:tensorflow:multiprocessing can interact badly with TensorFlow, causing nondeterministic deadlocks. For high performance data pipelines tf.data is recommended.\n",
            "186/187 [============================>.] - ETA: 0s - loss: 0.3501 - accuracy: 0.8697WARNING:tensorflow:multiprocessing can interact badly with TensorFlow, causing nondeterministic deadlocks. For high performance data pipelines tf.data is recommended.\n",
            "187/187 [==============================] - 15s 80ms/step - loss: 0.3504 - accuracy: 0.8697 - val_loss: 0.3038 - val_accuracy: 0.8851\n",
            "Epoch 16/50\n",
            "WARNING:tensorflow:multiprocessing can interact badly with TensorFlow, causing nondeterministic deadlocks. For high performance data pipelines tf.data is recommended.\n",
            "187/187 [==============================] - ETA: 0s - loss: 0.3502 - accuracy: 0.8700WARNING:tensorflow:multiprocessing can interact badly with TensorFlow, causing nondeterministic deadlocks. For high performance data pipelines tf.data is recommended.\n",
            "187/187 [==============================] - 15s 81ms/step - loss: 0.3502 - accuracy: 0.8700 - val_loss: 0.2981 - val_accuracy: 0.8859\n",
            "Epoch 17/50\n",
            "WARNING:tensorflow:multiprocessing can interact badly with TensorFlow, causing nondeterministic deadlocks. For high performance data pipelines tf.data is recommended.\n",
            "187/187 [==============================] - ETA: 0s - loss: 0.3467 - accuracy: 0.8712WARNING:tensorflow:multiprocessing can interact badly with TensorFlow, causing nondeterministic deadlocks. For high performance data pipelines tf.data is recommended.\n",
            "187/187 [==============================] - 15s 82ms/step - loss: 0.3467 - accuracy: 0.8712 - val_loss: 0.2999 - val_accuracy: 0.8889\n",
            "Epoch 18/50\n",
            "WARNING:tensorflow:multiprocessing can interact badly with TensorFlow, causing nondeterministic deadlocks. For high performance data pipelines tf.data is recommended.\n",
            "187/187 [==============================] - ETA: 0s - loss: 0.3437 - accuracy: 0.8735WARNING:tensorflow:multiprocessing can interact badly with TensorFlow, causing nondeterministic deadlocks. For high performance data pipelines tf.data is recommended.\n",
            "187/187 [==============================] - 15s 80ms/step - loss: 0.3437 - accuracy: 0.8735 - val_loss: 0.2954 - val_accuracy: 0.8865\n",
            "Epoch 19/50\n",
            "WARNING:tensorflow:multiprocessing can interact badly with TensorFlow, causing nondeterministic deadlocks. For high performance data pipelines tf.data is recommended.\n",
            "187/187 [==============================] - ETA: 0s - loss: 0.3460 - accuracy: 0.8721WARNING:tensorflow:multiprocessing can interact badly with TensorFlow, causing nondeterministic deadlocks. For high performance data pipelines tf.data is recommended.\n",
            "187/187 [==============================] - 15s 79ms/step - loss: 0.3460 - accuracy: 0.8721 - val_loss: 0.3058 - val_accuracy: 0.8843\n",
            "Epoch 20/50\n",
            "WARNING:tensorflow:multiprocessing can interact badly with TensorFlow, causing nondeterministic deadlocks. For high performance data pipelines tf.data is recommended.\n",
            "187/187 [==============================] - ETA: 0s - loss: 0.3396 - accuracy: 0.8739WARNING:tensorflow:multiprocessing can interact badly with TensorFlow, causing nondeterministic deadlocks. For high performance data pipelines tf.data is recommended.\n",
            "187/187 [==============================] - 15s 79ms/step - loss: 0.3396 - accuracy: 0.8739 - val_loss: 0.2955 - val_accuracy: 0.8866\n",
            "Epoch 21/50\n",
            "WARNING:tensorflow:multiprocessing can interact badly with TensorFlow, causing nondeterministic deadlocks. For high performance data pipelines tf.data is recommended.\n",
            "187/187 [==============================] - ETA: 0s - loss: 0.3402 - accuracy: 0.8726WARNING:tensorflow:multiprocessing can interact badly with TensorFlow, causing nondeterministic deadlocks. For high performance data pipelines tf.data is recommended.\n",
            "187/187 [==============================] - 15s 79ms/step - loss: 0.3402 - accuracy: 0.8726 - val_loss: 0.2954 - val_accuracy: 0.8885\n",
            "Epoch 22/50\n",
            "WARNING:tensorflow:multiprocessing can interact badly with TensorFlow, causing nondeterministic deadlocks. For high performance data pipelines tf.data is recommended.\n",
            "187/187 [==============================] - ETA: 0s - loss: 0.3319 - accuracy: 0.8763WARNING:tensorflow:multiprocessing can interact badly with TensorFlow, causing nondeterministic deadlocks. For high performance data pipelines tf.data is recommended.\n",
            "187/187 [==============================] - 15s 80ms/step - loss: 0.3319 - accuracy: 0.8763 - val_loss: 0.2879 - val_accuracy: 0.8930\n",
            "Epoch 23/50\n",
            "WARNING:tensorflow:multiprocessing can interact badly with TensorFlow, causing nondeterministic deadlocks. For high performance data pipelines tf.data is recommended.\n",
            "187/187 [==============================] - ETA: 0s - loss: 0.3357 - accuracy: 0.8759WARNING:tensorflow:multiprocessing can interact badly with TensorFlow, causing nondeterministic deadlocks. For high performance data pipelines tf.data is recommended.\n",
            "187/187 [==============================] - 15s 80ms/step - loss: 0.3357 - accuracy: 0.8759 - val_loss: 0.3060 - val_accuracy: 0.8838\n",
            "Epoch 24/50\n",
            "WARNING:tensorflow:multiprocessing can interact badly with TensorFlow, causing nondeterministic deadlocks. For high performance data pipelines tf.data is recommended.\n",
            "187/187 [==============================] - ETA: 0s - loss: 0.3281 - accuracy: 0.8774WARNING:tensorflow:multiprocessing can interact badly with TensorFlow, causing nondeterministic deadlocks. For high performance data pipelines tf.data is recommended.\n",
            "187/187 [==============================] - 15s 80ms/step - loss: 0.3281 - accuracy: 0.8774 - val_loss: 0.2894 - val_accuracy: 0.8916\n",
            "Epoch 25/50\n",
            "WARNING:tensorflow:multiprocessing can interact badly with TensorFlow, causing nondeterministic deadlocks. For high performance data pipelines tf.data is recommended.\n",
            "187/187 [==============================] - ETA: 0s - loss: 0.3293 - accuracy: 0.8772WARNING:tensorflow:multiprocessing can interact badly with TensorFlow, causing nondeterministic deadlocks. For high performance data pipelines tf.data is recommended.\n",
            "187/187 [==============================] - 15s 80ms/step - loss: 0.3293 - accuracy: 0.8772 - val_loss: 0.2816 - val_accuracy: 0.8951\n",
            "Epoch 26/50\n",
            "WARNING:tensorflow:multiprocessing can interact badly with TensorFlow, causing nondeterministic deadlocks. For high performance data pipelines tf.data is recommended.\n",
            "187/187 [==============================] - ETA: 0s - loss: 0.3218 - accuracy: 0.8801WARNING:tensorflow:multiprocessing can interact badly with TensorFlow, causing nondeterministic deadlocks. For high performance data pipelines tf.data is recommended.\n",
            "187/187 [==============================] - 15s 80ms/step - loss: 0.3218 - accuracy: 0.8801 - val_loss: 0.3007 - val_accuracy: 0.8850\n",
            "Epoch 27/50\n",
            "WARNING:tensorflow:multiprocessing can interact badly with TensorFlow, causing nondeterministic deadlocks. For high performance data pipelines tf.data is recommended.\n",
            "187/187 [==============================] - ETA: 0s - loss: 0.3261 - accuracy: 0.8788WARNING:tensorflow:multiprocessing can interact badly with TensorFlow, causing nondeterministic deadlocks. For high performance data pipelines tf.data is recommended.\n",
            "187/187 [==============================] - 15s 81ms/step - loss: 0.3261 - accuracy: 0.8788 - val_loss: 0.2869 - val_accuracy: 0.8913\n",
            "Epoch 28/50\n",
            "WARNING:tensorflow:multiprocessing can interact badly with TensorFlow, causing nondeterministic deadlocks. For high performance data pipelines tf.data is recommended.\n",
            "187/187 [==============================] - ETA: 0s - loss: 0.3242 - accuracy: 0.8789WARNING:tensorflow:multiprocessing can interact badly with TensorFlow, causing nondeterministic deadlocks. For high performance data pipelines tf.data is recommended.\n",
            "187/187 [==============================] - 15s 80ms/step - loss: 0.3242 - accuracy: 0.8789 - val_loss: 0.2866 - val_accuracy: 0.8944\n",
            "Epoch 29/50\n",
            "WARNING:tensorflow:multiprocessing can interact badly with TensorFlow, causing nondeterministic deadlocks. For high performance data pipelines tf.data is recommended.\n",
            "187/187 [==============================] - ETA: 0s - loss: 0.3229 - accuracy: 0.8796WARNING:tensorflow:multiprocessing can interact badly with TensorFlow, causing nondeterministic deadlocks. For high performance data pipelines tf.data is recommended.\n",
            "187/187 [==============================] - 15s 81ms/step - loss: 0.3229 - accuracy: 0.8796 - val_loss: 0.2773 - val_accuracy: 0.8956\n",
            "Epoch 30/50\n",
            "WARNING:tensorflow:multiprocessing can interact badly with TensorFlow, causing nondeterministic deadlocks. For high performance data pipelines tf.data is recommended.\n",
            "187/187 [==============================] - ETA: 0s - loss: 0.3211 - accuracy: 0.8794WARNING:tensorflow:multiprocessing can interact badly with TensorFlow, causing nondeterministic deadlocks. For high performance data pipelines tf.data is recommended.\n",
            "187/187 [==============================] - 15s 81ms/step - loss: 0.3211 - accuracy: 0.8794 - val_loss: 0.2764 - val_accuracy: 0.8978\n",
            "Epoch 31/50\n",
            "WARNING:tensorflow:multiprocessing can interact badly with TensorFlow, causing nondeterministic deadlocks. For high performance data pipelines tf.data is recommended.\n",
            "187/187 [==============================] - ETA: 0s - loss: 0.3215 - accuracy: 0.8796WARNING:tensorflow:multiprocessing can interact badly with TensorFlow, causing nondeterministic deadlocks. For high performance data pipelines tf.data is recommended.\n",
            "187/187 [==============================] - 15s 81ms/step - loss: 0.3215 - accuracy: 0.8796 - val_loss: 0.2748 - val_accuracy: 0.8990\n",
            "Epoch 32/50\n",
            "WARNING:tensorflow:multiprocessing can interact badly with TensorFlow, causing nondeterministic deadlocks. For high performance data pipelines tf.data is recommended.\n",
            "187/187 [==============================] - ETA: 0s - loss: 0.3225 - accuracy: 0.8814WARNING:tensorflow:multiprocessing can interact badly with TensorFlow, causing nondeterministic deadlocks. For high performance data pipelines tf.data is recommended.\n",
            "187/187 [==============================] - 15s 81ms/step - loss: 0.3225 - accuracy: 0.8814 - val_loss: 0.2783 - val_accuracy: 0.8949\n",
            "Epoch 33/50\n",
            "WARNING:tensorflow:multiprocessing can interact badly with TensorFlow, causing nondeterministic deadlocks. For high performance data pipelines tf.data is recommended.\n",
            "187/187 [==============================] - ETA: 0s - loss: 0.3196 - accuracy: 0.8822WARNING:tensorflow:multiprocessing can interact badly with TensorFlow, causing nondeterministic deadlocks. For high performance data pipelines tf.data is recommended.\n",
            "187/187 [==============================] - 15s 81ms/step - loss: 0.3196 - accuracy: 0.8822 - val_loss: 0.2814 - val_accuracy: 0.8956\n",
            "Epoch 34/50\n",
            "WARNING:tensorflow:multiprocessing can interact badly with TensorFlow, causing nondeterministic deadlocks. For high performance data pipelines tf.data is recommended.\n",
            "187/187 [==============================] - ETA: 0s - loss: 0.3168 - accuracy: 0.8843WARNING:tensorflow:multiprocessing can interact badly with TensorFlow, causing nondeterministic deadlocks. For high performance data pipelines tf.data is recommended.\n",
            "187/187 [==============================] - 15s 80ms/step - loss: 0.3168 - accuracy: 0.8843 - val_loss: 0.2745 - val_accuracy: 0.8972\n",
            "Epoch 35/50\n",
            "WARNING:tensorflow:multiprocessing can interact badly with TensorFlow, causing nondeterministic deadlocks. For high performance data pipelines tf.data is recommended.\n",
            "187/187 [==============================] - ETA: 0s - loss: 0.3141 - accuracy: 0.8840WARNING:tensorflow:multiprocessing can interact badly with TensorFlow, causing nondeterministic deadlocks. For high performance data pipelines tf.data is recommended.\n",
            "187/187 [==============================] - 15s 81ms/step - loss: 0.3141 - accuracy: 0.8840 - val_loss: 0.2718 - val_accuracy: 0.8983\n",
            "Epoch 36/50\n",
            "WARNING:tensorflow:multiprocessing can interact badly with TensorFlow, causing nondeterministic deadlocks. For high performance data pipelines tf.data is recommended.\n",
            "187/187 [==============================] - ETA: 0s - loss: 0.3128 - accuracy: 0.8842WARNING:tensorflow:multiprocessing can interact badly with TensorFlow, causing nondeterministic deadlocks. For high performance data pipelines tf.data is recommended.\n",
            "187/187 [==============================] - 15s 82ms/step - loss: 0.3128 - accuracy: 0.8842 - val_loss: 0.2738 - val_accuracy: 0.8963\n",
            "Epoch 37/50\n",
            "WARNING:tensorflow:multiprocessing can interact badly with TensorFlow, causing nondeterministic deadlocks. For high performance data pipelines tf.data is recommended.\n",
            "187/187 [==============================] - ETA: 0s - loss: 0.3119 - accuracy: 0.8839WARNING:tensorflow:multiprocessing can interact badly with TensorFlow, causing nondeterministic deadlocks. For high performance data pipelines tf.data is recommended.\n",
            "187/187 [==============================] - 15s 82ms/step - loss: 0.3119 - accuracy: 0.8839 - val_loss: 0.2685 - val_accuracy: 0.8990\n",
            "Epoch 38/50\n",
            "WARNING:tensorflow:multiprocessing can interact badly with TensorFlow, causing nondeterministic deadlocks. For high performance data pipelines tf.data is recommended.\n",
            "187/187 [==============================] - ETA: 0s - loss: 0.3143 - accuracy: 0.8843WARNING:tensorflow:multiprocessing can interact badly with TensorFlow, causing nondeterministic deadlocks. For high performance data pipelines tf.data is recommended.\n",
            "187/187 [==============================] - 15s 80ms/step - loss: 0.3143 - accuracy: 0.8843 - val_loss: 0.2763 - val_accuracy: 0.8920\n",
            "Epoch 39/50\n",
            "WARNING:tensorflow:multiprocessing can interact badly with TensorFlow, causing nondeterministic deadlocks. For high performance data pipelines tf.data is recommended.\n",
            "187/187 [==============================] - ETA: 0s - loss: 0.3127 - accuracy: 0.8839WARNING:tensorflow:multiprocessing can interact badly with TensorFlow, causing nondeterministic deadlocks. For high performance data pipelines tf.data is recommended.\n",
            "187/187 [==============================] - 15s 80ms/step - loss: 0.3127 - accuracy: 0.8839 - val_loss: 0.2787 - val_accuracy: 0.8960\n",
            "Epoch 40/50\n",
            "WARNING:tensorflow:multiprocessing can interact badly with TensorFlow, causing nondeterministic deadlocks. For high performance data pipelines tf.data is recommended.\n",
            "187/187 [==============================] - ETA: 0s - loss: 0.3129 - accuracy: 0.8849WARNING:tensorflow:multiprocessing can interact badly with TensorFlow, causing nondeterministic deadlocks. For high performance data pipelines tf.data is recommended.\n",
            "187/187 [==============================] - 15s 80ms/step - loss: 0.3129 - accuracy: 0.8849 - val_loss: 0.2600 - val_accuracy: 0.9032\n",
            "Epoch 41/50\n",
            "WARNING:tensorflow:multiprocessing can interact badly with TensorFlow, causing nondeterministic deadlocks. For high performance data pipelines tf.data is recommended.\n",
            "187/187 [==============================] - ETA: 0s - loss: 0.3106 - accuracy: 0.8833WARNING:tensorflow:multiprocessing can interact badly with TensorFlow, causing nondeterministic deadlocks. For high performance data pipelines tf.data is recommended.\n",
            "187/187 [==============================] - 15s 79ms/step - loss: 0.3106 - accuracy: 0.8833 - val_loss: 0.2678 - val_accuracy: 0.9026\n",
            "Epoch 42/50\n",
            "WARNING:tensorflow:multiprocessing can interact badly with TensorFlow, causing nondeterministic deadlocks. For high performance data pipelines tf.data is recommended.\n",
            "187/187 [==============================] - ETA: 0s - loss: 0.3118 - accuracy: 0.8833WARNING:tensorflow:multiprocessing can interact badly with TensorFlow, causing nondeterministic deadlocks. For high performance data pipelines tf.data is recommended.\n",
            "187/187 [==============================] - 15s 81ms/step - loss: 0.3118 - accuracy: 0.8833 - val_loss: 0.2744 - val_accuracy: 0.9001\n",
            "Epoch 43/50\n",
            "WARNING:tensorflow:multiprocessing can interact badly with TensorFlow, causing nondeterministic deadlocks. For high performance data pipelines tf.data is recommended.\n",
            "187/187 [==============================] - ETA: 0s - loss: 0.3058 - accuracy: 0.8861WARNING:tensorflow:multiprocessing can interact badly with TensorFlow, causing nondeterministic deadlocks. For high performance data pipelines tf.data is recommended.\n",
            "187/187 [==============================] - 15s 81ms/step - loss: 0.3058 - accuracy: 0.8861 - val_loss: 0.2701 - val_accuracy: 0.9001\n",
            "Epoch 44/50\n",
            "WARNING:tensorflow:multiprocessing can interact badly with TensorFlow, causing nondeterministic deadlocks. For high performance data pipelines tf.data is recommended.\n",
            "187/187 [==============================] - ETA: 0s - loss: 0.3056 - accuracy: 0.8862WARNING:tensorflow:multiprocessing can interact badly with TensorFlow, causing nondeterministic deadlocks. For high performance data pipelines tf.data is recommended.\n",
            "187/187 [==============================] - 15s 81ms/step - loss: 0.3056 - accuracy: 0.8862 - val_loss: 0.2640 - val_accuracy: 0.9032\n",
            "Epoch 45/50\n",
            "WARNING:tensorflow:multiprocessing can interact badly with TensorFlow, causing nondeterministic deadlocks. For high performance data pipelines tf.data is recommended.\n",
            "187/187 [==============================] - ETA: 0s - loss: 0.3030 - accuracy: 0.8879WARNING:tensorflow:multiprocessing can interact badly with TensorFlow, causing nondeterministic deadlocks. For high performance data pipelines tf.data is recommended.\n",
            "187/187 [==============================] - 15s 82ms/step - loss: 0.3030 - accuracy: 0.8879 - val_loss: 0.2675 - val_accuracy: 0.8977\n",
            "Epoch 46/50\n",
            "WARNING:tensorflow:multiprocessing can interact badly with TensorFlow, causing nondeterministic deadlocks. For high performance data pipelines tf.data is recommended.\n",
            "187/187 [==============================] - ETA: 0s - loss: 0.3070 - accuracy: 0.8855WARNING:tensorflow:multiprocessing can interact badly with TensorFlow, causing nondeterministic deadlocks. For high performance data pipelines tf.data is recommended.\n",
            "187/187 [==============================] - 15s 81ms/step - loss: 0.3070 - accuracy: 0.8855 - val_loss: 0.2777 - val_accuracy: 0.8940\n",
            "Epoch 47/50\n",
            "WARNING:tensorflow:multiprocessing can interact badly with TensorFlow, causing nondeterministic deadlocks. For high performance data pipelines tf.data is recommended.\n",
            "187/187 [==============================] - ETA: 0s - loss: 0.3037 - accuracy: 0.8869WARNING:tensorflow:multiprocessing can interact badly with TensorFlow, causing nondeterministic deadlocks. For high performance data pipelines tf.data is recommended.\n",
            "187/187 [==============================] - 15s 81ms/step - loss: 0.3037 - accuracy: 0.8869 - val_loss: 0.2681 - val_accuracy: 0.9012\n",
            "Epoch 48/50\n",
            "WARNING:tensorflow:multiprocessing can interact badly with TensorFlow, causing nondeterministic deadlocks. For high performance data pipelines tf.data is recommended.\n",
            "187/187 [==============================] - ETA: 0s - loss: 0.3058 - accuracy: 0.8873WARNING:tensorflow:multiprocessing can interact badly with TensorFlow, causing nondeterministic deadlocks. For high performance data pipelines tf.data is recommended.\n",
            "187/187 [==============================] - 16s 83ms/step - loss: 0.3058 - accuracy: 0.8873 - val_loss: 0.2629 - val_accuracy: 0.8988\n",
            "Epoch 49/50\n",
            "WARNING:tensorflow:multiprocessing can interact badly with TensorFlow, causing nondeterministic deadlocks. For high performance data pipelines tf.data is recommended.\n",
            "187/187 [==============================] - ETA: 0s - loss: 0.3059 - accuracy: 0.8876WARNING:tensorflow:multiprocessing can interact badly with TensorFlow, causing nondeterministic deadlocks. For high performance data pipelines tf.data is recommended.\n",
            "187/187 [==============================] - 15s 81ms/step - loss: 0.3059 - accuracy: 0.8876 - val_loss: 0.2655 - val_accuracy: 0.8996\n",
            "Epoch 50/50\n",
            "WARNING:tensorflow:multiprocessing can interact badly with TensorFlow, causing nondeterministic deadlocks. For high performance data pipelines tf.data is recommended.\n",
            "187/187 [==============================] - ETA: 0s - loss: 0.3054 - accuracy: 0.8870WARNING:tensorflow:multiprocessing can interact badly with TensorFlow, causing nondeterministic deadlocks. For high performance data pipelines tf.data is recommended.\n",
            "187/187 [==============================] - 15s 81ms/step - loss: 0.3054 - accuracy: 0.8870 - val_loss: 0.2660 - val_accuracy: 0.8998\n"
          ],
          "name": "stdout"
        }
      ]
    },
    {
      "cell_type": "code",
      "metadata": {
        "colab": {
          "base_uri": "https://localhost:8080/"
        },
        "id": "V-GEV4Qh9_QG",
        "outputId": "f050e32c-f08e-45f3-eeca-6658b15ff812"
      },
      "source": [
        "score3 = cnn3.evaluate(X_test, y_test, verbose=0)\n",
        "print('Test loss:', score3[0])\n",
        "print('Test accuracy:', score3[1])"
      ],
      "execution_count": 16,
      "outputs": [
        {
          "output_type": "stream",
          "text": [
            "Test loss: 0.22683723270893097\n",
            "Test accuracy: 0.9110999703407288\n"
          ],
          "name": "stdout"
        }
      ]
    },
    {
      "cell_type": "code",
      "metadata": {
        "colab": {
          "base_uri": "https://localhost:8080/"
        },
        "id": "-__1hE63-C4h",
        "outputId": "4c8c540b-5cde-4c6a-b333-a81a99aad7ec"
      },
      "source": [
        "history3_dict = history3.history\n",
        "history3_dict.keys()"
      ],
      "execution_count": 17,
      "outputs": [
        {
          "output_type": "execute_result",
          "data": {
            "text/plain": [
              "dict_keys(['loss', 'accuracy', 'val_loss', 'val_accuracy'])"
            ]
          },
          "metadata": {
            "tags": []
          },
          "execution_count": 17
        }
      ]
    },
    {
      "cell_type": "code",
      "metadata": {
        "colab": {
          "base_uri": "https://localhost:8080/",
          "height": 545
        },
        "id": "19N7jnBe-IAU",
        "outputId": "2435b0dd-1af3-4349-dda5-bedf0486fcf8"
      },
      "source": [
        "\n",
        "import matplotlib.pyplot as plt\n",
        "%matplotlib inline\n",
        "\n",
        "accuracy = history3.history['accuracy']\n",
        "val_accuracy = history3.history['val_accuracy']\n",
        "loss = history3.history['loss']\n",
        "val_loss = history3.history['val_loss']\n",
        "epochs = range(len(accuracy))\n",
        "\n",
        "plt.plot(epochs, accuracy, 'bo', label='Training accuracy')\n",
        "plt.plot(epochs, val_accuracy, 'b', label='Validation accuracy')\n",
        "plt.title('Training and validation accuracy')\n",
        "plt.legend()\n",
        "plt.figure()\n",
        "\n",
        "plt.plot(epochs, loss, 'bo', label='Training loss')\n",
        "plt.plot(epochs, val_loss, 'b', label='Validation loss')\n",
        "plt.title('Training and validation loss')\n",
        "plt.legend()\n",
        "plt.show()"
      ],
      "execution_count": 18,
      "outputs": [
        {
          "output_type": "display_data",
          "data": {
            "image/png": "[encoded data removed]",
            "text/plain": [
              "<Figure size 432x288 with 1 Axes>"
            ]
          },
          "metadata": {
            "tags": [],
            "needs_background": "light"
          }
        },
        {
          "output_type": "display_data",
          "data": {
            "image/png": "[encoded data removed]",
            "text/plain": [
              "<Figure size 432x288 with 1 Axes>"
            ]
          },
          "metadata": {
            "tags": [],
            "needs_background": "light"
          }
        }
      ]
    }
  ]
}