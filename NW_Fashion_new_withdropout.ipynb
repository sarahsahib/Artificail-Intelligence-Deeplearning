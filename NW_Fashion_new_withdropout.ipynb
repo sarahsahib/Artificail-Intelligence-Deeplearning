{
  "nbformat": 4,
  "nbformat_minor": 0,
  "metadata": {
    "colab": {
      "name": "NW_Fashion_new-withdropout.ipynb",
      "provenance": [],
      "collapsed_sections": []
    },
    "kernelspec": {
      "name": "python3",
      "display_name": "Python 3"
    },
    "language_info": {
      "name": "python"
    },
    "accelerator": "GPU"
  },
  "cells": [
    {
      "cell_type": "code",
      "metadata": {
        "colab": {
          "base_uri": "https://localhost:8080/"
        },
        "id": "dgW36q-1UQlB",
        "outputId": "769b28a4-e9f4-46cc-a606-6e61cbfd4de4"
      },
      "source": [
        "import numpy as np\n",
        "from tensorflow import keras\n",
        "from tensorflow.keras import backend as K\n",
        "from tensorflow.keras.models import Model, Sequential\n",
        "from tensorflow.keras.layers import Dense, Dropout, Flatten, Conv2D, MaxPool2D, Input\n",
        "from tensorflow.keras.datasets import fashion_mnist\n",
        "import matplotlib.pyplot as plt\n",
        "# TensorFlow and tf.keras\n",
        "import tensorflow as tf\n",
        "\n",
        "# Helper libraries\n",
        "import numpy as np\n",
        "import matplotlib.pyplot as plt\n",
        "\n",
        "print(tf.__version__)"
      ],
      "execution_count": 1,
      "outputs": [
        {
          "output_type": "stream",
          "text": [
            "2.4.1\n"
          ],
          "name": "stdout"
        }
      ]
    },
    {
      "cell_type": "code",
      "metadata": {
        "colab": {
          "base_uri": "https://localhost:8080/"
        },
        "id": "ckVL66ifUGr0",
        "outputId": "0118238d-79f7-4089-a2ac-80e54e822902"
      },
      "source": [
        "fashion_mnist = tf.keras.datasets.fashion_mnist\n",
        "\n",
        "(train_images, train_labels), (test_images, test_labels) = fashion_mnist.load_data()"
      ],
      "execution_count": 2,
      "outputs": [
        {
          "output_type": "stream",
          "text": [
            "Downloading data from https://storage.googleapis.com/tensorflow/tf-keras-datasets/train-labels-idx1-ubyte.gz\n",
            "32768/29515 [=================================] - 0s 0us/step\n",
            "Downloading data from https://storage.googleapis.com/tensorflow/tf-keras-datasets/train-images-idx3-ubyte.gz\n",
            "26427392/26421880 [==============================] - 1s 0us/step\n",
            "Downloading data from https://storage.googleapis.com/tensorflow/tf-keras-datasets/t10k-labels-idx1-ubyte.gz\n",
            "8192/5148 [===============================================] - 0s 0us/step\n",
            "Downloading data from https://storage.googleapis.com/tensorflow/tf-keras-datasets/t10k-images-idx3-ubyte.gz\n",
            "4423680/4422102 [==============================] - 0s 0us/step\n"
          ],
          "name": "stdout"
        }
      ]
    },
    {
      "cell_type": "code",
      "metadata": {
        "id": "heifczrbUW68"
      },
      "source": [
        "class_names = ['T-shirt/top', 'Trouser', 'Pullover', 'Dress', 'Coat',\n",
        "               'Sandal', 'Shirt', 'Sneaker', 'Bag', 'Ankle boot']"
      ],
      "execution_count": 3,
      "outputs": []
    },
    {
      "cell_type": "code",
      "metadata": {
        "colab": {
          "base_uri": "https://localhost:8080/"
        },
        "id": "8Nq6J0W1UZk3",
        "outputId": "d927f897-3eaf-45d8-81ad-7eff12ea94b2"
      },
      "source": [
        "train_images.shape"
      ],
      "execution_count": 4,
      "outputs": [
        {
          "output_type": "execute_result",
          "data": {
            "text/plain": [
              "(60000, 28, 28)"
            ]
          },
          "metadata": {
            "tags": []
          },
          "execution_count": 4
        }
      ]
    },
    {
      "cell_type": "code",
      "metadata": {
        "colab": {
          "base_uri": "https://localhost:8080/"
        },
        "id": "tW60w5oBUcBz",
        "outputId": "3bb7dcd6-6679-4736-ded9-ed26ab804d29"
      },
      "source": [
        "len(train_labels)"
      ],
      "execution_count": 5,
      "outputs": [
        {
          "output_type": "execute_result",
          "data": {
            "text/plain": [
              "60000"
            ]
          },
          "metadata": {
            "tags": []
          },
          "execution_count": 5
        }
      ]
    },
    {
      "cell_type": "code",
      "metadata": {
        "colab": {
          "base_uri": "https://localhost:8080/"
        },
        "id": "QujgF2igUeuw",
        "outputId": "227f87df-f75c-4cad-d165-aec96f927012"
      },
      "source": [
        "train_labels"
      ],
      "execution_count": 6,
      "outputs": [
        {
          "output_type": "execute_result",
          "data": {
            "text/plain": [
              "array([9, 0, 0, ..., 3, 0, 5], dtype=uint8)"
            ]
          },
          "metadata": {
            "tags": []
          },
          "execution_count": 6
        }
      ]
    },
    {
      "cell_type": "code",
      "metadata": {
        "colab": {
          "base_uri": "https://localhost:8080/",
          "height": 265
        },
        "id": "WVvd55CtUPf7",
        "outputId": "6b005399-0bf2-464c-df6d-8458696b397a"
      },
      "source": [
        "plt.figure()\n",
        "plt.imshow(train_images[1])\n",
        "plt.colorbar()\n",
        "plt.grid(False)\n",
        "plt.show()"
      ],
      "execution_count": 7,
      "outputs": [
        {
          "output_type": "display_data",
          "data": {
            "image/png": "[encoded data removed]",
            "text/plain": [
              "<Figure size 432x288 with 2 Axes>"
            ]
          },
          "metadata": {
            "tags": [],
            "needs_background": "light"
          }
        }
      ]
    },
    {
      "cell_type": "code",
      "metadata": {
        "id": "DuSMGJgMUnj2"
      },
      "source": [
        "train_images = train_images / 255.0\n",
        "\n",
        "test_images = test_images / 255.0"
      ],
      "execution_count": 8,
      "outputs": []
    },
    {
      "cell_type": "code",
      "metadata": {
        "colab": {
          "base_uri": "https://localhost:8080/",
          "height": 589
        },
        "id": "a-kvjSV4Up5R",
        "outputId": "2599cfb7-7649-498b-9eb9-3870936d836f"
      },
      "source": [
        "plt.figure(figsize=(10,10))\n",
        "for i in range(25):\n",
        "    plt.subplot(5,5,i+1)\n",
        "    plt.xticks([])\n",
        "    plt.yticks([])\n",
        "    plt.grid(False)\n",
        "    plt.imshow(train_images[i], cmap=plt.cm.binary)\n",
        "    plt.xlabel(class_names[train_labels[i]])\n",
        "plt.show()"
      ],
      "execution_count": 9,
      "outputs": [
        {
          "output_type": "display_data",
          "data": {
            "image/png": "[encoded data removed]",
            "text/plain": [
              "<Figure size 720x720 with 25 Axes>"
            ]
          },
          "metadata": {
            "tags": []
          }
        }
      ]
    },
    {
      "cell_type": "code",
      "metadata": {
        "id": "GUkDTipr-c9o"
      },
      "source": [
        "val_images, train_images= train_images[:3000], train_images[3000:] \n",
        "val_labels, train_labels = train_labels[:3000], train_labels[3000:]"
      ],
      "execution_count": 10,
      "outputs": []
    },
    {
      "cell_type": "code",
      "metadata": {
        "id": "vojPrrTAUvMZ"
      },
      "source": [
        "model = tf.keras.Sequential([\n",
        "    tf.keras.layers.Flatten(input_shape=(28, 28)),\n",
        "    tf.keras.layers.Dense(128, activation='relu'),\n",
        "    tf.keras.layers.Dropout(0.2),\n",
        "    tf.keras.layers.Dense(10)\n",
        "])"
      ],
      "execution_count": 12,
      "outputs": []
    },
    {
      "cell_type": "code",
      "metadata": {
        "id": "9qEGzpU-UyMm"
      },
      "source": [
        "model.compile(optimizer='adam',\n",
        "              loss=tf.keras.losses.SparseCategoricalCrossentropy(from_logits=True),\n",
        "              metrics=['accuracy'])"
      ],
      "execution_count": 13,
      "outputs": []
    },
    {
      "cell_type": "code",
      "metadata": {
        "colab": {
          "base_uri": "https://localhost:8080/"
        },
        "id": "sa3_rg95U0zr",
        "outputId": "631d4b73-1c79-4c85-955c-14cb4ccae5cc"
      },
      "source": [
        "history = model.fit(train_images\n",
        "                    ,train_labels\n",
        "                    ,epochs=10\n",
        "                    ,batch_size=512\n",
        "                    ,validation_data=(val_images,val_labels)\n",
        "                                                                                                                              \n",
        "                   )"
      ],
      "execution_count": 14,
      "outputs": [
        {
          "output_type": "stream",
          "text": [
            "Epoch 1/10\n",
            "112/112 [==============================] - 3s 6ms/step - loss: 1.1287 - accuracy: 0.6140 - val_loss: 0.5211 - val_accuracy: 0.8280\n",
            "Epoch 2/10\n",
            "112/112 [==============================] - 0s 4ms/step - loss: 0.5206 - accuracy: 0.8201 - val_loss: 0.4497 - val_accuracy: 0.8443\n",
            "Epoch 3/10\n",
            "112/112 [==============================] - 0s 4ms/step - loss: 0.4611 - accuracy: 0.8393 - val_loss: 0.4153 - val_accuracy: 0.8553\n",
            "Epoch 4/10\n",
            "112/112 [==============================] - 0s 4ms/step - loss: 0.4197 - accuracy: 0.8552 - val_loss: 0.3882 - val_accuracy: 0.8643\n",
            "Epoch 5/10\n",
            "112/112 [==============================] - 0s 4ms/step - loss: 0.3902 - accuracy: 0.8630 - val_loss: 0.3747 - val_accuracy: 0.8667\n",
            "Epoch 6/10\n",
            "112/112 [==============================] - 0s 4ms/step - loss: 0.3741 - accuracy: 0.8673 - val_loss: 0.3608 - val_accuracy: 0.8723\n",
            "Epoch 7/10\n",
            "112/112 [==============================] - 0s 4ms/step - loss: 0.3625 - accuracy: 0.8711 - val_loss: 0.3549 - val_accuracy: 0.8750\n",
            "Epoch 8/10\n",
            "112/112 [==============================] - 0s 4ms/step - loss: 0.3521 - accuracy: 0.8745 - val_loss: 0.3513 - val_accuracy: 0.8743\n",
            "Epoch 9/10\n",
            "112/112 [==============================] - 0s 4ms/step - loss: 0.3334 - accuracy: 0.8791 - val_loss: 0.3386 - val_accuracy: 0.8777\n",
            "Epoch 10/10\n",
            "112/112 [==============================] - 0s 4ms/step - loss: 0.3292 - accuracy: 0.8838 - val_loss: 0.3377 - val_accuracy: 0.8800\n"
          ],
          "name": "stdout"
        }
      ]
    },
    {
      "cell_type": "code",
      "metadata": {
        "id": "B3nM-Vx6-la6"
      },
      "source": [
        ""
      ],
      "execution_count": null,
      "outputs": []
    },
    {
      "cell_type": "code",
      "metadata": {
        "colab": {
          "base_uri": "https://localhost:8080/"
        },
        "id": "gFWB1MVvVEfB",
        "outputId": "90ca3241-3e42-4b42-d75b-c03e25148b59"
      },
      "source": [
        "test_loss, test_acc = model.evaluate(test_images,  test_labels, verbose=2)\n",
        "\n",
        "print('\\nTest accuracy:', test_acc)"
      ],
      "execution_count": 15,
      "outputs": [
        {
          "output_type": "stream",
          "text": [
            "313/313 - 1s - loss: 0.3568 - accuracy: 0.8748\n",
            "\n",
            "Test accuracy: 0.8748000264167786\n"
          ],
          "name": "stdout"
        }
      ]
    },
    {
      "cell_type": "code",
      "metadata": {
        "colab": {
          "base_uri": "https://localhost:8080/"
        },
        "id": "YAcrk_bp-RLL",
        "outputId": "a9f71d23-179d-4f95-b630-6477b2e8c742"
      },
      "source": [
        "\n",
        "history_dict = history.history\n",
        "history_dict.keys()"
      ],
      "execution_count": 16,
      "outputs": [
        {
          "output_type": "execute_result",
          "data": {
            "text/plain": [
              "dict_keys(['loss', 'accuracy', 'val_loss', 'val_accuracy'])"
            ]
          },
          "metadata": {
            "tags": []
          },
          "execution_count": 16
        }
      ]
    },
    {
      "cell_type": "code",
      "metadata": {
        "id": "TtMXdORQ-qH2"
      },
      "source": [
        "losses = history.history['loss']\n",
        "accs = history.history['accuracy']\n",
        "val_losses = history.history['val_loss']\n",
        "val_accs = history.history['val_accuracy']\n",
        "epochs = len(losses)"
      ],
      "execution_count": 17,
      "outputs": []
    },
    {
      "cell_type": "code",
      "metadata": {
        "colab": {
          "base_uri": "https://localhost:8080/",
          "height": 265
        },
        "id": "lphXm6kb-r1X",
        "outputId": "84f3a975-05fb-4017-919a-8bb627ee3e4f"
      },
      "source": [
        "plt.figure(figsize=(16, 4))\n",
        "for i, metrics in enumerate(zip([losses, accs], [val_losses, val_accs], ['Loss', 'Accuracy'])):\n",
        "    plt.subplot(1, 2, i + 1)\n",
        "    plt.plot(range(epochs), metrics[0], label='Training {}'.format(metrics[2]))\n",
        "    plt.plot(range(epochs), metrics[1], label='Validation {}'.format(metrics[2]))\n",
        "    plt.legend()\n",
        "plt.show()"
      ],
      "execution_count": 18,
      "outputs": [
        {
          "output_type": "display_data",
          "data": {
            "image/png": "[encoded data removed]",
            "text/plain": [
              "<Figure size 1152x288 with 2 Axes>"
            ]
          },
          "metadata": {
            "tags": [],
            "needs_background": "light"
          }
        }
      ]
    },
    {
      "cell_type": "code",
      "metadata": {
        "colab": {
          "base_uri": "https://localhost:8080/"
        },
        "id": "WxLp0RiL-tfF",
        "outputId": "fe2fedde-e63e-4575-feab-826cf5b91dad"
      },
      "source": [
        "val_loss, val_acc = model.evaluate(test_images, test_labels)\n",
        "print(val_loss)\n",
        "print(val_acc)"
      ],
      "execution_count": 19,
      "outputs": [
        {
          "output_type": "stream",
          "text": [
            "313/313 [==============================] - 1s 2ms/step - loss: 0.3568 - accuracy: 0.8748\n",
            "0.3567633330821991\n",
            "0.8748000264167786\n"
          ],
          "name": "stdout"
        }
      ]
    },
    {
      "cell_type": "code",
      "metadata": {
        "id": "DpIPDLoL-wH9"
      },
      "source": [
        "predictions = model.predict(test_images)"
      ],
      "execution_count": 20,
      "outputs": []
    },
    {
      "cell_type": "code",
      "metadata": {
        "colab": {
          "base_uri": "https://localhost:8080/"
        },
        "id": "mKYcjgbY-x22",
        "outputId": "399dd1de-2675-4b21-e24e-60c9be9ba7f5"
      },
      "source": [
        "print(predictions)"
      ],
      "execution_count": 21,
      "outputs": [
        {
          "output_type": "stream",
          "text": [
            "[[ -5.747296    -8.711601    -5.0833764  ...   3.551509     0.20082682\n",
            "    6.340043  ]\n",
            " [  2.0059087   -7.681984    10.389399   ... -13.198728    -1.5851873\n",
            "  -12.609895  ]\n",
            " [  2.623386    12.8888      -1.4334787  ...  -7.693182    -4.284135\n",
            "   -6.628595  ]\n",
            " ...\n",
            " [  0.53923213  -9.160225    -0.95930344 ...  -3.9365735    5.380637\n",
            "   -6.4360843 ]\n",
            " [ -1.5209084    9.751947    -1.9314697  ...  -4.9306965   -4.9096127\n",
            "   -3.6770937 ]\n",
            " [ -3.538242    -5.3816004   -2.0700762  ...   1.5001843   -0.09842128\n",
            "   -1.7407433 ]]\n"
          ],
          "name": "stdout"
        }
      ]
    },
    {
      "cell_type": "code",
      "metadata": {
        "id": "y7eg6Q7z-0TZ",
        "colab": {
          "base_uri": "https://localhost:8080/"
        },
        "outputId": "6654a1a4-2a81-4d58-9a61-f2e11da491db"
      },
      "source": [
        "pred_classes = np.argmax(model.predict(train_images), axis=-1)\n",
        "pred_classes"
      ],
      "execution_count": 22,
      "outputs": [
        {
          "output_type": "execute_result",
          "data": {
            "text/plain": [
              "array([6, 3, 2, ..., 3, 0, 5])"
            ]
          },
          "metadata": {
            "tags": []
          },
          "execution_count": 22
        }
      ]
    },
    {
      "cell_type": "code",
      "metadata": {
        "colab": {
          "base_uri": "https://localhost:8080/"
        },
        "id": "vTPNbrjT-4ju",
        "outputId": "57ae97d1-dea0-4cc1-bdc0-2b340be6476a"
      },
      "source": [
        "conf_mx = tf.math.confusion_matrix(train_labels, pred_classes)\n",
        "conf_mx"
      ],
      "execution_count": 23,
      "outputs": [
        {
          "output_type": "execute_result",
          "data": {
            "text/plain": [
              "<tf.Tensor: shape=(10, 10), dtype=int32, numpy=\n",
              "array([[5170,    4,   58,   85,   14,    2,  345,    0,   40,    0],\n",
              "       [  29, 5535,    6,   85,    9,    1,   12,    0,    2,    0],\n",
              "       [  93,    3, 4790,   36,  468,    1,  299,    0,   20,    0],\n",
              "       [ 247,   36,   44, 5012,  223,    0,  111,    0,   14,    1],\n",
              "       [  18,    3,  466,  122, 4779,    0,  289,    0,   19,    1],\n",
              "       [   3,    0,    0,    1,    0, 5526,    1,  107,   13,   49],\n",
              "       [ 871,    7,  509,   82,  415,    0, 3769,    0,   49,    0],\n",
              "       [   0,    0,    0,    0,    0,  126,    1, 5300,    9,  252],\n",
              "       [  20,    5,   28,   12,   23,    8,   35,   13, 5566,    3],\n",
              "       [   1,    1,    0,    0,    0,   28,    0,  113,    3, 5559]],\n",
              "      dtype=int32)>"
            ]
          },
          "metadata": {
            "tags": []
          },
          "execution_count": 23
        }
      ]
    },
    {
      "cell_type": "code",
      "metadata": {
        "id": "y5ZFAC1w-6Lt"
      },
      "source": [
        "def plot_confusion_matrix(matrix):\n",
        "    \"\"\"If you prefer color and a colorbar\"\"\"\n",
        "    fig = plt.figure(figsize=(8,8))\n",
        "    ax = fig.add_subplot(111)\n",
        "    cax = ax.matshow(matrix)\n",
        "    fig.colorbar(cax)"
      ],
      "execution_count": 24,
      "outputs": []
    },
    {
      "cell_type": "code",
      "metadata": {
        "colab": {
          "base_uri": "https://localhost:8080/",
          "height": 508
        },
        "id": "eHw2XbPj-7-y",
        "outputId": "89cc3057-aa70-47d5-99bf-2638b07912c0"
      },
      "source": [
        "plt.figure(figsize=(16,8))\n",
        "plt.matshow(conf_mx, cmap=plt.cm.Blues,  fignum=1)\n",
        "plt.xlabel(\"Predicted Classes\")\n",
        "plt.ylabel(\"Actual Classes\")\n",
        "plt.show()"
      ],
      "execution_count": 25,
      "outputs": [
        {
          "output_type": "display_data",
          "data": {
            "image/png": "[encoded data removed]",
            "text/plain": [
              "<Figure size 1152x576 with 1 Axes>"
            ]
          },
          "metadata": {
            "tags": [],
            "needs_background": "light"
          }
        }
      ]
    }
  ]
}