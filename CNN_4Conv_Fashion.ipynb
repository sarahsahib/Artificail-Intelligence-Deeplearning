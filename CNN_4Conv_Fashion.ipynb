{
  "nbformat": 4,
  "nbformat_minor": 0,
  "metadata": {
    "colab": {
      "name": "CNN-4Conv-Fashion",
      "provenance": [],
      "collapsed_sections": []
    },
    "kernelspec": {
      "name": "python3",
      "display_name": "Python 3"
    },
    "language_info": {
      "name": "python"
    },
    "accelerator": "GPU"
  },
  "cells": [
    {
      "cell_type": "code",
      "metadata": {
        "id": "XAFKcw7a-m3S"
      },
      "source": [
        "import numpy as np\n",
        "import pandas as pd\n",
        "from keras.utils import to_categorical\n",
        "from sklearn.model_selection import train_test_split"
      ],
      "execution_count": 1,
      "outputs": []
    },
    {
      "cell_type": "code",
      "metadata": {
        "colab": {
          "base_uri": "https://localhost:8080/"
        },
        "id": "E4X0B2wY-rym",
        "outputId": "e85cba2e-789b-40c0-f24f-e82f748dc77b"
      },
      "source": [
        " from google.colab import drive\n",
        " drive.mount('/content/gdrive')"
      ],
      "execution_count": 2,
      "outputs": [
        {
          "output_type": "stream",
          "text": [
            "Mounted at /content/gdrive\n"
          ],
          "name": "stdout"
        }
      ]
    },
    {
      "cell_type": "code",
      "metadata": {
        "id": "SgUx3INL-4ME"
      },
      "source": [
        "data_train = pd.read_csv('/content/gdrive/MyDrive/fashion-mnist_train.csv')\n",
        "data_test = pd.read_csv('/content/gdrive/MyDrive/fashion-mnist_test.csv')"
      ],
      "execution_count": 3,
      "outputs": []
    },
    {
      "cell_type": "code",
      "metadata": {
        "id": "iJxRcWxz--vw"
      },
      "source": [
        "X = np.array(data_train.iloc[:, 1:])\n",
        "y = to_categorical(np.array(data_train.iloc[:, 0]))"
      ],
      "execution_count": 4,
      "outputs": []
    },
    {
      "cell_type": "code",
      "metadata": {
        "id": "cywn5c82_BRL"
      },
      "source": [
        "X_train, X_val, y_train, y_val = train_test_split(X, y, test_size=0.2, random_state=13)"
      ],
      "execution_count": 5,
      "outputs": []
    },
    {
      "cell_type": "code",
      "metadata": {
        "id": "T9z7fYVz_DQU"
      },
      "source": [
        "X_test = np.array(data_test.iloc[:, 1:])\n",
        "y_test = to_categorical(np.array(data_test.iloc[:, 0]))"
      ],
      "execution_count": 6,
      "outputs": []
    },
    {
      "cell_type": "code",
      "metadata": {
        "id": "bLMjiDQx_GAT"
      },
      "source": [
        "# Each image's dimension is 28 x 28\n",
        "img_rows, img_cols = 28, 28\n",
        "input_shape = (img_rows, img_cols, 1)\n",
        "\n",
        "# Prepare the training images\n",
        "X_train = X_train.reshape(X_train.shape[0], img_rows, img_cols, 1)\n",
        "X_train = X_train.astype('float32')\n",
        "X_train /= 255\n",
        "\n",
        "# Prepare the test images\n",
        "X_test = X_test.reshape(X_test.shape[0], img_rows, img_cols, 1)\n",
        "X_test = X_test.astype('float32')\n",
        "X_test /= 255\n",
        "\n",
        "# Prepare the validation images\n",
        "X_val = X_val.reshape(X_val.shape[0], img_rows, img_cols, 1)\n",
        "X_val = X_val.astype('float32')\n",
        "X_val /= 255"
      ],
      "execution_count": 7,
      "outputs": []
    },
    {
      "cell_type": "code",
      "metadata": {
        "id": "3kfQ3_UO_KqE"
      },
      "source": [
        "import keras\n",
        "from keras.models import Sequential\n",
        "from keras.layers import Dense, Dropout, Flatten\n",
        "from keras.layers import Conv2D, MaxPooling2D, BatchNormalization\n",
        "\n",
        "cnn4 = Sequential()\n",
        "cnn4.add(Conv2D(32, kernel_size=(3, 3), activation='relu', input_shape=input_shape))\n",
        "cnn4.add(BatchNormalization())\n",
        "\n",
        "cnn4.add(Conv2D(32, kernel_size=(3, 3), activation='relu'))\n",
        "cnn4.add(BatchNormalization())\n",
        "cnn4.add(MaxPooling2D(pool_size=(2, 2)))\n",
        "cnn4.add(Dropout(0.25))\n",
        "\n",
        "cnn4.add(Conv2D(64, kernel_size=(3, 3), activation='relu'))\n",
        "cnn4.add(BatchNormalization())\n",
        "cnn4.add(Dropout(0.25))\n",
        "\n",
        "cnn4.add(Conv2D(128, kernel_size=(3, 3), activation='relu'))\n",
        "cnn4.add(BatchNormalization())\n",
        "cnn4.add(MaxPooling2D(pool_size=(2, 2)))\n",
        "cnn4.add(Dropout(0.25))\n",
        "\n",
        "cnn4.add(Flatten())\n",
        "\n",
        "cnn4.add(Dense(512, activation='relu'))\n",
        "cnn4.add(BatchNormalization())\n",
        "cnn4.add(Dropout(0.5))\n",
        "\n",
        "cnn4.add(Dense(128, activation='relu'))\n",
        "cnn4.add(BatchNormalization())\n",
        "cnn4.add(Dropout(0.5))\n",
        "\n",
        "cnn4.add(Dense(10, activation='softmax'))"
      ],
      "execution_count": 8,
      "outputs": []
    },
    {
      "cell_type": "code",
      "metadata": {
        "id": "2hdP3IGE_O5O"
      },
      "source": [
        "cnn4.compile(loss=keras.losses.categorical_crossentropy,\n",
        "              optimizer=keras.optimizers.Adam(),\n",
        "              metrics=['accuracy'])"
      ],
      "execution_count": 9,
      "outputs": []
    },
    {
      "cell_type": "code",
      "metadata": {
        "colab": {
          "base_uri": "https://localhost:8080/"
        },
        "id": "rUnkpHuw_Rei",
        "outputId": "c4958d88-318c-4bea-f93c-887e56de6b57"
      },
      "source": [
        "cnn4.summary()"
      ],
      "execution_count": 10,
      "outputs": [
        {
          "output_type": "stream",
          "text": [
            "Model: \"sequential\"\n",
            "_________________________________________________________________\n",
            "Layer (type)                 Output Shape              Param #   \n",
            "=================================================================\n",
            "conv2d (Conv2D)              (None, 26, 26, 32)        320       \n",
            "_________________________________________________________________\n",
            "batch_normalization (BatchNo (None, 26, 26, 32)        128       \n",
            "_________________________________________________________________\n",
            "conv2d_1 (Conv2D)            (None, 24, 24, 32)        9248      \n",
            "_________________________________________________________________\n",
            "batch_normalization_1 (Batch (None, 24, 24, 32)        128       \n",
            "_________________________________________________________________\n",
            "max_pooling2d (MaxPooling2D) (None, 12, 12, 32)        0         \n",
            "_________________________________________________________________\n",
            "dropout (Dropout)            (None, 12, 12, 32)        0         \n",
            "_________________________________________________________________\n",
            "conv2d_2 (Conv2D)            (None, 10, 10, 64)        18496     \n",
            "_________________________________________________________________\n",
            "batch_normalization_2 (Batch (None, 10, 10, 64)        256       \n",
            "_________________________________________________________________\n",
            "dropout_1 (Dropout)          (None, 10, 10, 64)        0         \n",
            "_________________________________________________________________\n",
            "conv2d_3 (Conv2D)            (None, 8, 8, 128)         73856     \n",
            "_________________________________________________________________\n",
            "batch_normalization_3 (Batch (None, 8, 8, 128)         512       \n",
            "_________________________________________________________________\n",
            "max_pooling2d_1 (MaxPooling2 (None, 4, 4, 128)         0         \n",
            "_________________________________________________________________\n",
            "dropout_2 (Dropout)          (None, 4, 4, 128)         0         \n",
            "_________________________________________________________________\n",
            "flatten (Flatten)            (None, 2048)              0         \n",
            "_________________________________________________________________\n",
            "dense (Dense)                (None, 512)               1049088   \n",
            "_________________________________________________________________\n",
            "batch_normalization_4 (Batch (None, 512)               2048      \n",
            "_________________________________________________________________\n",
            "dropout_3 (Dropout)          (None, 512)               0         \n",
            "_________________________________________________________________\n",
            "dense_1 (Dense)              (None, 128)               65664     \n",
            "_________________________________________________________________\n",
            "batch_normalization_5 (Batch (None, 128)               512       \n",
            "_________________________________________________________________\n",
            "dropout_4 (Dropout)          (None, 128)               0         \n",
            "_________________________________________________________________\n",
            "dense_2 (Dense)              (None, 10)                1290      \n",
            "=================================================================\n",
            "Total params: 1,221,546\n",
            "Trainable params: 1,219,754\n",
            "Non-trainable params: 1,792\n",
            "_________________________________________________________________\n"
          ],
          "name": "stdout"
        }
      ]
    },
    {
      "cell_type": "code",
      "metadata": {
        "colab": {
          "base_uri": "https://localhost:8080/"
        },
        "id": "_9l67qfd_VAD",
        "outputId": "8406f898-ead1-40f2-93ec-ec84c6539bc4"
      },
      "source": [
        "\n",
        "history4 = cnn4.fit(X_train, y_train,\n",
        "          batch_size=256,\n",
        "          epochs=10,\n",
        "          verbose=1,\n",
        "          validation_data=(X_val, y_val))"
      ],
      "execution_count": 11,
      "outputs": [
        {
          "output_type": "stream",
          "text": [
            "Epoch 1/10\n",
            "188/188 [==============================] - 38s 43ms/step - loss: 1.1091 - accuracy: 0.6430 - val_loss: 2.9761 - val_accuracy: 0.2208\n",
            "Epoch 2/10\n",
            "188/188 [==============================] - 7s 37ms/step - loss: 0.4675 - accuracy: 0.8338 - val_loss: 1.5444 - val_accuracy: 0.5565\n",
            "Epoch 3/10\n",
            "188/188 [==============================] - 7s 37ms/step - loss: 0.3798 - accuracy: 0.8636 - val_loss: 0.4037 - val_accuracy: 0.8508\n",
            "Epoch 4/10\n",
            "188/188 [==============================] - 7s 37ms/step - loss: 0.3339 - accuracy: 0.8829 - val_loss: 0.2816 - val_accuracy: 0.8930\n",
            "Epoch 5/10\n",
            "188/188 [==============================] - 7s 37ms/step - loss: 0.2998 - accuracy: 0.8929 - val_loss: 0.2871 - val_accuracy: 0.8948\n",
            "Epoch 6/10\n",
            "188/188 [==============================] - 7s 37ms/step - loss: 0.2889 - accuracy: 0.8963 - val_loss: 0.2631 - val_accuracy: 0.9061\n",
            "Epoch 7/10\n",
            "188/188 [==============================] - 7s 37ms/step - loss: 0.2633 - accuracy: 0.9047 - val_loss: 0.2520 - val_accuracy: 0.9068\n",
            "Epoch 8/10\n",
            "188/188 [==============================] - 7s 37ms/step - loss: 0.2552 - accuracy: 0.9082 - val_loss: 0.2572 - val_accuracy: 0.9065\n",
            "Epoch 9/10\n",
            "188/188 [==============================] - 7s 37ms/step - loss: 0.2435 - accuracy: 0.9142 - val_loss: 0.2456 - val_accuracy: 0.9136\n",
            "Epoch 10/10\n",
            "188/188 [==============================] - 7s 37ms/step - loss: 0.2316 - accuracy: 0.9169 - val_loss: 0.2514 - val_accuracy: 0.9104\n"
          ],
          "name": "stdout"
        }
      ]
    },
    {
      "cell_type": "code",
      "metadata": {
        "colab": {
          "base_uri": "https://localhost:8080/"
        },
        "id": "Quaza0e-_u_Y",
        "outputId": "b1447547-197d-4de2-a9dc-f784169920ec"
      },
      "source": [
        "score4 = cnn4.evaluate(X_test, y_test, verbose=0)\n",
        "print('Test loss:', score4[0])\n",
        "print('Test accuracy:', score4[1])"
      ],
      "execution_count": 12,
      "outputs": [
        {
          "output_type": "stream",
          "text": [
            "Test loss: 0.2338666021823883\n",
            "Test accuracy: 0.9150999784469604\n"
          ],
          "name": "stdout"
        }
      ]
    },
    {
      "cell_type": "code",
      "metadata": {
        "id": "0O7o5KXB_y3m"
      },
      "source": [
        "from keras.preprocessing.image import ImageDataGenerator\n",
        "gen = ImageDataGenerator(rotation_range=8, width_shift_range=0.08, shear_range=0.3,\n",
        "                               height_shift_range=0.08, zoom_range=0.08)\n",
        "batches = gen.flow(X_train, y_train, batch_size=256)\n",
        "val_batches = gen.flow(X_val, y_val, batch_size=256)"
      ],
      "execution_count": 13,
      "outputs": []
    },
    {
      "cell_type": "code",
      "metadata": {
        "colab": {
          "base_uri": "https://localhost:8080/"
        },
        "id": "KmaIJ1FV_1ZC",
        "outputId": "a8e1e0a7-56ce-4a68-f24a-3f8d85fe5aa3"
      },
      "source": [
        "history4 = cnn4.fit_generator(batches, steps_per_epoch=48000//256, epochs=50,\n",
        "                    validation_data=val_batches, validation_steps=12000//256, use_multiprocessing=True)"
      ],
      "execution_count": 14,
      "outputs": [
        {
          "output_type": "stream",
          "text": [
            "/usr/local/lib/python3.7/dist-packages/tensorflow/python/keras/engine/training.py:1844: UserWarning: `Model.fit_generator` is deprecated and will be removed in a future version. Please use `Model.fit`, which supports generators.\n",
            "  warnings.warn('`Model.fit_generator` is deprecated and '\n"
          ],
          "name": "stderr"
        },
        {
          "output_type": "stream",
          "text": [
            "Epoch 1/50\n",
            "WARNING:tensorflow:multiprocessing can interact badly with TensorFlow, causing nondeterministic deadlocks. For high performance data pipelines tf.data is recommended.\n",
            "187/187 [==============================] - ETA: 0s - loss: 0.4020 - accuracy: 0.8537WARNING:tensorflow:multiprocessing can interact badly with TensorFlow, causing nondeterministic deadlocks. For high performance data pipelines tf.data is recommended.\n",
            "187/187 [==============================] - 26s 136ms/step - loss: 0.4020 - accuracy: 0.8537 - val_loss: 0.3429 - val_accuracy: 0.8723\n",
            "Epoch 2/50\n",
            "WARNING:tensorflow:multiprocessing can interact badly with TensorFlow, causing nondeterministic deadlocks. For high performance data pipelines tf.data is recommended.\n",
            "187/187 [==============================] - ETA: 0s - loss: 0.3662 - accuracy: 0.8662WARNING:tensorflow:multiprocessing can interact badly with TensorFlow, causing nondeterministic deadlocks. For high performance data pipelines tf.data is recommended.\n",
            "187/187 [==============================] - 25s 135ms/step - loss: 0.3662 - accuracy: 0.8662 - val_loss: 0.3795 - val_accuracy: 0.8637\n",
            "Epoch 3/50\n",
            "WARNING:tensorflow:multiprocessing can interact badly with TensorFlow, causing nondeterministic deadlocks. For high performance data pipelines tf.data is recommended.\n",
            "187/187 [==============================] - ETA: 0s - loss: 0.3445 - accuracy: 0.8728WARNING:tensorflow:multiprocessing can interact badly with TensorFlow, causing nondeterministic deadlocks. For high performance data pipelines tf.data is recommended.\n",
            "187/187 [==============================] - 26s 137ms/step - loss: 0.3445 - accuracy: 0.8728 - val_loss: 0.3139 - val_accuracy: 0.8837\n",
            "Epoch 4/50\n",
            "WARNING:tensorflow:multiprocessing can interact badly with TensorFlow, causing nondeterministic deadlocks. For high performance data pipelines tf.data is recommended.\n",
            "187/187 [==============================] - ETA: 0s - loss: 0.3340 - accuracy: 0.8789WARNING:tensorflow:multiprocessing can interact badly with TensorFlow, causing nondeterministic deadlocks. For high performance data pipelines tf.data is recommended.\n",
            "187/187 [==============================] - 26s 138ms/step - loss: 0.3340 - accuracy: 0.8789 - val_loss: 0.3180 - val_accuracy: 0.8826\n",
            "Epoch 5/50\n",
            "WARNING:tensorflow:multiprocessing can interact badly with TensorFlow, causing nondeterministic deadlocks. For high performance data pipelines tf.data is recommended.\n",
            "187/187 [==============================] - ETA: 0s - loss: 0.3246 - accuracy: 0.8817WARNING:tensorflow:multiprocessing can interact badly with TensorFlow, causing nondeterministic deadlocks. For high performance data pipelines tf.data is recommended.\n",
            "187/187 [==============================] - 26s 138ms/step - loss: 0.3246 - accuracy: 0.8817 - val_loss: 0.2673 - val_accuracy: 0.9013\n",
            "Epoch 6/50\n",
            "WARNING:tensorflow:multiprocessing can interact badly with TensorFlow, causing nondeterministic deadlocks. For high performance data pipelines tf.data is recommended.\n",
            "187/187 [==============================] - ETA: 0s - loss: 0.3133 - accuracy: 0.8860WARNING:tensorflow:multiprocessing can interact badly with TensorFlow, causing nondeterministic deadlocks. For high performance data pipelines tf.data is recommended.\n",
            "187/187 [==============================] - 26s 139ms/step - loss: 0.3133 - accuracy: 0.8860 - val_loss: 0.3481 - val_accuracy: 0.8771\n",
            "Epoch 7/50\n",
            "WARNING:tensorflow:multiprocessing can interact badly with TensorFlow, causing nondeterministic deadlocks. For high performance data pipelines tf.data is recommended.\n",
            "187/187 [==============================] - ETA: 0s - loss: 0.3148 - accuracy: 0.8856WARNING:tensorflow:multiprocessing can interact badly with TensorFlow, causing nondeterministic deadlocks. For high performance data pipelines tf.data is recommended.\n",
            "187/187 [==============================] - 25s 135ms/step - loss: 0.3148 - accuracy: 0.8856 - val_loss: 0.2898 - val_accuracy: 0.8920\n",
            "Epoch 8/50\n",
            "WARNING:tensorflow:multiprocessing can interact badly with TensorFlow, causing nondeterministic deadlocks. For high performance data pipelines tf.data is recommended.\n",
            "187/187 [==============================] - ETA: 0s - loss: 0.3049 - accuracy: 0.8896WARNING:tensorflow:multiprocessing can interact badly with TensorFlow, causing nondeterministic deadlocks. For high performance data pipelines tf.data is recommended.\n",
            "187/187 [==============================] - 26s 137ms/step - loss: 0.3049 - accuracy: 0.8896 - val_loss: 0.2790 - val_accuracy: 0.8943\n",
            "Epoch 9/50\n",
            "WARNING:tensorflow:multiprocessing can interact badly with TensorFlow, causing nondeterministic deadlocks. For high performance data pipelines tf.data is recommended.\n",
            "187/187 [==============================] - ETA: 0s - loss: 0.2984 - accuracy: 0.8932WARNING:tensorflow:multiprocessing can interact badly with TensorFlow, causing nondeterministic deadlocks. For high performance data pipelines tf.data is recommended.\n",
            "187/187 [==============================] - 26s 138ms/step - loss: 0.2984 - accuracy: 0.8932 - val_loss: 0.2699 - val_accuracy: 0.8994\n",
            "Epoch 10/50\n",
            "WARNING:tensorflow:multiprocessing can interact badly with TensorFlow, causing nondeterministic deadlocks. For high performance data pipelines tf.data is recommended.\n",
            "187/187 [==============================] - ETA: 0s - loss: 0.2971 - accuracy: 0.8919WARNING:tensorflow:multiprocessing can interact badly with TensorFlow, causing nondeterministic deadlocks. For high performance data pipelines tf.data is recommended.\n",
            "187/187 [==============================] - 26s 139ms/step - loss: 0.2971 - accuracy: 0.8919 - val_loss: 0.2680 - val_accuracy: 0.9021\n",
            "Epoch 11/50\n",
            "WARNING:tensorflow:multiprocessing can interact badly with TensorFlow, causing nondeterministic deadlocks. For high performance data pipelines tf.data is recommended.\n",
            "187/187 [==============================] - ETA: 0s - loss: 0.2915 - accuracy: 0.8964WARNING:tensorflow:multiprocessing can interact badly with TensorFlow, causing nondeterministic deadlocks. For high performance data pipelines tf.data is recommended.\n",
            "187/187 [==============================] - 26s 139ms/step - loss: 0.2915 - accuracy: 0.8964 - val_loss: 0.2618 - val_accuracy: 0.9057\n",
            "Epoch 12/50\n",
            "WARNING:tensorflow:multiprocessing can interact badly with TensorFlow, causing nondeterministic deadlocks. For high performance data pipelines tf.data is recommended.\n",
            "187/187 [==============================] - ETA: 0s - loss: 0.2873 - accuracy: 0.8968WARNING:tensorflow:multiprocessing can interact badly with TensorFlow, causing nondeterministic deadlocks. For high performance data pipelines tf.data is recommended.\n",
            "187/187 [==============================] - 26s 139ms/step - loss: 0.2873 - accuracy: 0.8968 - val_loss: 0.2797 - val_accuracy: 0.8944\n",
            "Epoch 13/50\n",
            "WARNING:tensorflow:multiprocessing can interact badly with TensorFlow, causing nondeterministic deadlocks. For high performance data pipelines tf.data is recommended.\n",
            "187/187 [==============================] - ETA: 0s - loss: 0.2838 - accuracy: 0.8972WARNING:tensorflow:multiprocessing can interact badly with TensorFlow, causing nondeterministic deadlocks. For high performance data pipelines tf.data is recommended.\n",
            "187/187 [==============================] - 26s 139ms/step - loss: 0.2838 - accuracy: 0.8972 - val_loss: 0.2797 - val_accuracy: 0.9012\n",
            "Epoch 14/50\n",
            "WARNING:tensorflow:multiprocessing can interact badly with TensorFlow, causing nondeterministic deadlocks. For high performance data pipelines tf.data is recommended.\n",
            "187/187 [==============================] - ETA: 0s - loss: 0.2831 - accuracy: 0.8981WARNING:tensorflow:multiprocessing can interact badly with TensorFlow, causing nondeterministic deadlocks. For high performance data pipelines tf.data is recommended.\n",
            "187/187 [==============================] - 26s 140ms/step - loss: 0.2831 - accuracy: 0.8981 - val_loss: 0.2532 - val_accuracy: 0.9050\n",
            "Epoch 15/50\n",
            "WARNING:tensorflow:multiprocessing can interact badly with TensorFlow, causing nondeterministic deadlocks. For high performance data pipelines tf.data is recommended.\n",
            "187/187 [==============================] - ETA: 0s - loss: 0.2765 - accuracy: 0.9003WARNING:tensorflow:multiprocessing can interact badly with TensorFlow, causing nondeterministic deadlocks. For high performance data pipelines tf.data is recommended.\n",
            "187/187 [==============================] - 26s 139ms/step - loss: 0.2765 - accuracy: 0.9003 - val_loss: 0.2546 - val_accuracy: 0.9055\n",
            "Epoch 16/50\n",
            "WARNING:tensorflow:multiprocessing can interact badly with TensorFlow, causing nondeterministic deadlocks. For high performance data pipelines tf.data is recommended.\n",
            "187/187 [==============================] - ETA: 0s - loss: 0.2727 - accuracy: 0.9028WARNING:tensorflow:multiprocessing can interact badly with TensorFlow, causing nondeterministic deadlocks. For high performance data pipelines tf.data is recommended.\n",
            "187/187 [==============================] - 26s 139ms/step - loss: 0.2727 - accuracy: 0.9028 - val_loss: 0.2459 - val_accuracy: 0.9083\n",
            "Epoch 17/50\n",
            "WARNING:tensorflow:multiprocessing can interact badly with TensorFlow, causing nondeterministic deadlocks. For high performance data pipelines tf.data is recommended.\n",
            "187/187 [==============================] - ETA: 0s - loss: 0.2722 - accuracy: 0.9028WARNING:tensorflow:multiprocessing can interact badly with TensorFlow, causing nondeterministic deadlocks. For high performance data pipelines tf.data is recommended.\n",
            "187/187 [==============================] - 26s 139ms/step - loss: 0.2722 - accuracy: 0.9028 - val_loss: 0.2491 - val_accuracy: 0.9096\n",
            "Epoch 18/50\n",
            "WARNING:tensorflow:multiprocessing can interact badly with TensorFlow, causing nondeterministic deadlocks. For high performance data pipelines tf.data is recommended.\n",
            "187/187 [==============================] - ETA: 0s - loss: 0.2644 - accuracy: 0.9054WARNING:tensorflow:multiprocessing can interact badly with TensorFlow, causing nondeterministic deadlocks. For high performance data pipelines tf.data is recommended.\n",
            "187/187 [==============================] - 26s 139ms/step - loss: 0.2644 - accuracy: 0.9054 - val_loss: 0.2478 - val_accuracy: 0.9078\n",
            "Epoch 19/50\n",
            "WARNING:tensorflow:multiprocessing can interact badly with TensorFlow, causing nondeterministic deadlocks. For high performance data pipelines tf.data is recommended.\n",
            "187/187 [==============================] - ETA: 0s - loss: 0.2581 - accuracy: 0.9076WARNING:tensorflow:multiprocessing can interact badly with TensorFlow, causing nondeterministic deadlocks. For high performance data pipelines tf.data is recommended.\n",
            "187/187 [==============================] - 26s 140ms/step - loss: 0.2581 - accuracy: 0.9076 - val_loss: 0.2332 - val_accuracy: 0.9140\n",
            "Epoch 20/50\n",
            "WARNING:tensorflow:multiprocessing can interact badly with TensorFlow, causing nondeterministic deadlocks. For high performance data pipelines tf.data is recommended.\n",
            "187/187 [==============================] - ETA: 0s - loss: 0.2585 - accuracy: 0.9061WARNING:tensorflow:multiprocessing can interact badly with TensorFlow, causing nondeterministic deadlocks. For high performance data pipelines tf.data is recommended.\n",
            "187/187 [==============================] - 26s 140ms/step - loss: 0.2585 - accuracy: 0.9061 - val_loss: 0.2315 - val_accuracy: 0.9160\n",
            "Epoch 21/50\n",
            "WARNING:tensorflow:multiprocessing can interact badly with TensorFlow, causing nondeterministic deadlocks. For high performance data pipelines tf.data is recommended.\n",
            "187/187 [==============================] - ETA: 0s - loss: 0.2590 - accuracy: 0.9071WARNING:tensorflow:multiprocessing can interact badly with TensorFlow, causing nondeterministic deadlocks. For high performance data pipelines tf.data is recommended.\n",
            "187/187 [==============================] - 26s 141ms/step - loss: 0.2590 - accuracy: 0.9071 - val_loss: 0.2372 - val_accuracy: 0.9126\n",
            "Epoch 22/50\n",
            "WARNING:tensorflow:multiprocessing can interact badly with TensorFlow, causing nondeterministic deadlocks. For high performance data pipelines tf.data is recommended.\n",
            "187/187 [==============================] - ETA: 0s - loss: 0.2542 - accuracy: 0.9090WARNING:tensorflow:multiprocessing can interact badly with TensorFlow, causing nondeterministic deadlocks. For high performance data pipelines tf.data is recommended.\n",
            "187/187 [==============================] - 26s 139ms/step - loss: 0.2542 - accuracy: 0.9090 - val_loss: 0.2529 - val_accuracy: 0.9081\n",
            "Epoch 23/50\n",
            "WARNING:tensorflow:multiprocessing can interact badly with TensorFlow, causing nondeterministic deadlocks. For high performance data pipelines tf.data is recommended.\n",
            "187/187 [==============================] - ETA: 0s - loss: 0.2563 - accuracy: 0.9065WARNING:tensorflow:multiprocessing can interact badly with TensorFlow, causing nondeterministic deadlocks. For high performance data pipelines tf.data is recommended.\n",
            "187/187 [==============================] - 26s 141ms/step - loss: 0.2563 - accuracy: 0.9065 - val_loss: 0.2529 - val_accuracy: 0.9066\n",
            "Epoch 24/50\n",
            "WARNING:tensorflow:multiprocessing can interact badly with TensorFlow, causing nondeterministic deadlocks. For high performance data pipelines tf.data is recommended.\n",
            "187/187 [==============================] - ETA: 0s - loss: 0.2519 - accuracy: 0.9080WARNING:tensorflow:multiprocessing can interact badly with TensorFlow, causing nondeterministic deadlocks. For high performance data pipelines tf.data is recommended.\n",
            "187/187 [==============================] - 26s 140ms/step - loss: 0.2519 - accuracy: 0.9080 - val_loss: 0.2460 - val_accuracy: 0.9082\n",
            "Epoch 25/50\n",
            "WARNING:tensorflow:multiprocessing can interact badly with TensorFlow, causing nondeterministic deadlocks. For high performance data pipelines tf.data is recommended.\n",
            "187/187 [==============================] - ETA: 0s - loss: 0.2489 - accuracy: 0.9102WARNING:tensorflow:multiprocessing can interact badly with TensorFlow, causing nondeterministic deadlocks. For high performance data pipelines tf.data is recommended.\n",
            "187/187 [==============================] - 26s 138ms/step - loss: 0.2489 - accuracy: 0.9102 - val_loss: 0.2386 - val_accuracy: 0.9130\n",
            "Epoch 26/50\n",
            "WARNING:tensorflow:multiprocessing can interact badly with TensorFlow, causing nondeterministic deadlocks. For high performance data pipelines tf.data is recommended.\n",
            "187/187 [==============================] - ETA: 0s - loss: 0.2451 - accuracy: 0.9117WARNING:tensorflow:multiprocessing can interact badly with TensorFlow, causing nondeterministic deadlocks. For high performance data pipelines tf.data is recommended.\n",
            "187/187 [==============================] - 26s 140ms/step - loss: 0.2451 - accuracy: 0.9117 - val_loss: 0.2274 - val_accuracy: 0.9157\n",
            "Epoch 27/50\n",
            "WARNING:tensorflow:multiprocessing can interact badly with TensorFlow, causing nondeterministic deadlocks. For high performance data pipelines tf.data is recommended.\n",
            "187/187 [==============================] - ETA: 0s - loss: 0.2428 - accuracy: 0.9117WARNING:tensorflow:multiprocessing can interact badly with TensorFlow, causing nondeterministic deadlocks. For high performance data pipelines tf.data is recommended.\n",
            "187/187 [==============================] - 26s 139ms/step - loss: 0.2428 - accuracy: 0.9117 - val_loss: 0.2287 - val_accuracy: 0.9177\n",
            "Epoch 28/50\n",
            "WARNING:tensorflow:multiprocessing can interact badly with TensorFlow, causing nondeterministic deadlocks. For high performance data pipelines tf.data is recommended.\n",
            "187/187 [==============================] - ETA: 0s - loss: 0.2444 - accuracy: 0.9116WARNING:tensorflow:multiprocessing can interact badly with TensorFlow, causing nondeterministic deadlocks. For high performance data pipelines tf.data is recommended.\n",
            "187/187 [==============================] - 26s 139ms/step - loss: 0.2444 - accuracy: 0.9116 - val_loss: 0.2333 - val_accuracy: 0.9133\n",
            "Epoch 29/50\n",
            "WARNING:tensorflow:multiprocessing can interact badly with TensorFlow, causing nondeterministic deadlocks. For high performance data pipelines tf.data is recommended.\n",
            "187/187 [==============================] - ETA: 0s - loss: 0.2405 - accuracy: 0.9127WARNING:tensorflow:multiprocessing can interact badly with TensorFlow, causing nondeterministic deadlocks. For high performance data pipelines tf.data is recommended.\n",
            "187/187 [==============================] - 26s 136ms/step - loss: 0.2405 - accuracy: 0.9127 - val_loss: 0.2276 - val_accuracy: 0.9166\n",
            "Epoch 30/50\n",
            "WARNING:tensorflow:multiprocessing can interact badly with TensorFlow, causing nondeterministic deadlocks. For high performance data pipelines tf.data is recommended.\n",
            "187/187 [==============================] - ETA: 0s - loss: 0.2422 - accuracy: 0.9127WARNING:tensorflow:multiprocessing can interact badly with TensorFlow, causing nondeterministic deadlocks. For high performance data pipelines tf.data is recommended.\n",
            "187/187 [==============================] - 26s 138ms/step - loss: 0.2422 - accuracy: 0.9127 - val_loss: 0.2308 - val_accuracy: 0.9156\n",
            "Epoch 31/50\n",
            "WARNING:tensorflow:multiprocessing can interact badly with TensorFlow, causing nondeterministic deadlocks. For high performance data pipelines tf.data is recommended.\n",
            "187/187 [==============================] - ETA: 0s - loss: 0.2379 - accuracy: 0.9135WARNING:tensorflow:multiprocessing can interact badly with TensorFlow, causing nondeterministic deadlocks. For high performance data pipelines tf.data is recommended.\n",
            "187/187 [==============================] - 26s 141ms/step - loss: 0.2379 - accuracy: 0.9135 - val_loss: 0.2190 - val_accuracy: 0.9184\n",
            "Epoch 32/50\n",
            "WARNING:tensorflow:multiprocessing can interact badly with TensorFlow, causing nondeterministic deadlocks. For high performance data pipelines tf.data is recommended.\n",
            "187/187 [==============================] - ETA: 0s - loss: 0.2402 - accuracy: 0.9129WARNING:tensorflow:multiprocessing can interact badly with TensorFlow, causing nondeterministic deadlocks. For high performance data pipelines tf.data is recommended.\n",
            "187/187 [==============================] - 27s 142ms/step - loss: 0.2402 - accuracy: 0.9129 - val_loss: 0.2491 - val_accuracy: 0.9117\n",
            "Epoch 33/50\n",
            "WARNING:tensorflow:multiprocessing can interact badly with TensorFlow, causing nondeterministic deadlocks. For high performance data pipelines tf.data is recommended.\n",
            "187/187 [==============================] - ETA: 0s - loss: 0.2436 - accuracy: 0.9119WARNING:tensorflow:multiprocessing can interact badly with TensorFlow, causing nondeterministic deadlocks. For high performance data pipelines tf.data is recommended.\n",
            "187/187 [==============================] - 27s 141ms/step - loss: 0.2436 - accuracy: 0.9119 - val_loss: 0.2116 - val_accuracy: 0.9242\n",
            "Epoch 34/50\n",
            "WARNING:tensorflow:multiprocessing can interact badly with TensorFlow, causing nondeterministic deadlocks. For high performance data pipelines tf.data is recommended.\n",
            "187/187 [==============================] - ETA: 0s - loss: 0.2336 - accuracy: 0.9152WARNING:tensorflow:multiprocessing can interact badly with TensorFlow, causing nondeterministic deadlocks. For high performance data pipelines tf.data is recommended.\n",
            "187/187 [==============================] - 26s 140ms/step - loss: 0.2336 - accuracy: 0.9152 - val_loss: 0.2252 - val_accuracy: 0.9186\n",
            "Epoch 35/50\n",
            "WARNING:tensorflow:multiprocessing can interact badly with TensorFlow, causing nondeterministic deadlocks. For high performance data pipelines tf.data is recommended.\n",
            "187/187 [==============================] - ETA: 0s - loss: 0.2349 - accuracy: 0.9148WARNING:tensorflow:multiprocessing can interact badly with TensorFlow, causing nondeterministic deadlocks. For high performance data pipelines tf.data is recommended.\n",
            "187/187 [==============================] - 26s 140ms/step - loss: 0.2349 - accuracy: 0.9148 - val_loss: 0.2348 - val_accuracy: 0.9143\n",
            "Epoch 36/50\n",
            "WARNING:tensorflow:multiprocessing can interact badly with TensorFlow, causing nondeterministic deadlocks. For high performance data pipelines tf.data is recommended.\n",
            "187/187 [==============================] - ETA: 0s - loss: 0.2348 - accuracy: 0.9135WARNING:tensorflow:multiprocessing can interact badly with TensorFlow, causing nondeterministic deadlocks. For high performance data pipelines tf.data is recommended.\n",
            "187/187 [==============================] - 26s 140ms/step - loss: 0.2348 - accuracy: 0.9135 - val_loss: 0.2166 - val_accuracy: 0.9187\n",
            "Epoch 37/50\n",
            "WARNING:tensorflow:multiprocessing can interact badly with TensorFlow, causing nondeterministic deadlocks. For high performance data pipelines tf.data is recommended.\n",
            "187/187 [==============================] - ETA: 0s - loss: 0.2315 - accuracy: 0.9170WARNING:tensorflow:multiprocessing can interact badly with TensorFlow, causing nondeterministic deadlocks. For high performance data pipelines tf.data is recommended.\n",
            "187/187 [==============================] - 26s 140ms/step - loss: 0.2315 - accuracy: 0.9170 - val_loss: 0.2194 - val_accuracy: 0.9222\n",
            "Epoch 38/50\n",
            "WARNING:tensorflow:multiprocessing can interact badly with TensorFlow, causing nondeterministic deadlocks. For high performance data pipelines tf.data is recommended.\n",
            "187/187 [==============================] - ETA: 0s - loss: 0.2301 - accuracy: 0.9168WARNING:tensorflow:multiprocessing can interact badly with TensorFlow, causing nondeterministic deadlocks. For high performance data pipelines tf.data is recommended.\n",
            "187/187 [==============================] - 26s 141ms/step - loss: 0.2301 - accuracy: 0.9168 - val_loss: 0.2169 - val_accuracy: 0.9196\n",
            "Epoch 39/50\n",
            "WARNING:tensorflow:multiprocessing can interact badly with TensorFlow, causing nondeterministic deadlocks. For high performance data pipelines tf.data is recommended.\n",
            "187/187 [==============================] - ETA: 0s - loss: 0.2268 - accuracy: 0.9177WARNING:tensorflow:multiprocessing can interact badly with TensorFlow, causing nondeterministic deadlocks. For high performance data pipelines tf.data is recommended.\n",
            "187/187 [==============================] - 26s 140ms/step - loss: 0.2268 - accuracy: 0.9177 - val_loss: 0.2421 - val_accuracy: 0.9125\n",
            "Epoch 40/50\n",
            "WARNING:tensorflow:multiprocessing can interact badly with TensorFlow, causing nondeterministic deadlocks. For high performance data pipelines tf.data is recommended.\n",
            "187/187 [==============================] - ETA: 0s - loss: 0.2264 - accuracy: 0.9179WARNING:tensorflow:multiprocessing can interact badly with TensorFlow, causing nondeterministic deadlocks. For high performance data pipelines tf.data is recommended.\n",
            "187/187 [==============================] - 27s 141ms/step - loss: 0.2264 - accuracy: 0.9179 - val_loss: 0.2231 - val_accuracy: 0.9193\n",
            "Epoch 41/50\n",
            "WARNING:tensorflow:multiprocessing can interact badly with TensorFlow, causing nondeterministic deadlocks. For high performance data pipelines tf.data is recommended.\n",
            "187/187 [==============================] - ETA: 0s - loss: 0.2242 - accuracy: 0.9196WARNING:tensorflow:multiprocessing can interact badly with TensorFlow, causing nondeterministic deadlocks. For high performance data pipelines tf.data is recommended.\n",
            "187/187 [==============================] - 27s 142ms/step - loss: 0.2242 - accuracy: 0.9196 - val_loss: 0.2075 - val_accuracy: 0.9258\n",
            "Epoch 42/50\n",
            "WARNING:tensorflow:multiprocessing can interact badly with TensorFlow, causing nondeterministic deadlocks. For high performance data pipelines tf.data is recommended.\n",
            "187/187 [==============================] - ETA: 0s - loss: 0.2231 - accuracy: 0.9194WARNING:tensorflow:multiprocessing can interact badly with TensorFlow, causing nondeterministic deadlocks. For high performance data pipelines tf.data is recommended.\n",
            "187/187 [==============================] - 27s 143ms/step - loss: 0.2231 - accuracy: 0.9194 - val_loss: 0.2190 - val_accuracy: 0.9201\n",
            "Epoch 43/50\n",
            "WARNING:tensorflow:multiprocessing can interact badly with TensorFlow, causing nondeterministic deadlocks. For high performance data pipelines tf.data is recommended.\n",
            "187/187 [==============================] - ETA: 0s - loss: 0.2242 - accuracy: 0.9198WARNING:tensorflow:multiprocessing can interact badly with TensorFlow, causing nondeterministic deadlocks. For high performance data pipelines tf.data is recommended.\n",
            "187/187 [==============================] - 26s 138ms/step - loss: 0.2242 - accuracy: 0.9198 - val_loss: 0.2133 - val_accuracy: 0.9215\n",
            "Epoch 44/50\n",
            "WARNING:tensorflow:multiprocessing can interact badly with TensorFlow, causing nondeterministic deadlocks. For high performance data pipelines tf.data is recommended.\n",
            "187/187 [==============================] - ETA: 0s - loss: 0.2201 - accuracy: 0.9189WARNING:tensorflow:multiprocessing can interact badly with TensorFlow, causing nondeterministic deadlocks. For high performance data pipelines tf.data is recommended.\n",
            "187/187 [==============================] - 26s 140ms/step - loss: 0.2201 - accuracy: 0.9189 - val_loss: 0.2266 - val_accuracy: 0.9186\n",
            "Epoch 45/50\n",
            "WARNING:tensorflow:multiprocessing can interact badly with TensorFlow, causing nondeterministic deadlocks. For high performance data pipelines tf.data is recommended.\n",
            "187/187 [==============================] - ETA: 0s - loss: 0.2164 - accuracy: 0.9217WARNING:tensorflow:multiprocessing can interact badly with TensorFlow, causing nondeterministic deadlocks. For high performance data pipelines tf.data is recommended.\n",
            "187/187 [==============================] - 26s 141ms/step - loss: 0.2164 - accuracy: 0.9217 - val_loss: 0.2120 - val_accuracy: 0.9222\n",
            "Epoch 46/50\n",
            "WARNING:tensorflow:multiprocessing can interact badly with TensorFlow, causing nondeterministic deadlocks. For high performance data pipelines tf.data is recommended.\n",
            "187/187 [==============================] - ETA: 0s - loss: 0.2173 - accuracy: 0.9225WARNING:tensorflow:multiprocessing can interact badly with TensorFlow, causing nondeterministic deadlocks. For high performance data pipelines tf.data is recommended.\n",
            "187/187 [==============================] - 26s 140ms/step - loss: 0.2173 - accuracy: 0.9225 - val_loss: 0.2097 - val_accuracy: 0.9230\n",
            "Epoch 47/50\n",
            "WARNING:tensorflow:multiprocessing can interact badly with TensorFlow, causing nondeterministic deadlocks. For high performance data pipelines tf.data is recommended.\n",
            "187/187 [==============================] - ETA: 0s - loss: 0.2199 - accuracy: 0.9210WARNING:tensorflow:multiprocessing can interact badly with TensorFlow, causing nondeterministic deadlocks. For high performance data pipelines tf.data is recommended.\n",
            "187/187 [==============================] - 26s 139ms/step - loss: 0.2199 - accuracy: 0.9210 - val_loss: 0.2049 - val_accuracy: 0.9246\n",
            "Epoch 48/50\n",
            "WARNING:tensorflow:multiprocessing can interact badly with TensorFlow, causing nondeterministic deadlocks. For high performance data pipelines tf.data is recommended.\n",
            "187/187 [==============================] - ETA: 0s - loss: 0.2167 - accuracy: 0.9214WARNING:tensorflow:multiprocessing can interact badly with TensorFlow, causing nondeterministic deadlocks. For high performance data pipelines tf.data is recommended.\n",
            "187/187 [==============================] - 26s 139ms/step - loss: 0.2167 - accuracy: 0.9214 - val_loss: 0.2551 - val_accuracy: 0.9093\n",
            "Epoch 49/50\n",
            "WARNING:tensorflow:multiprocessing can interact badly with TensorFlow, causing nondeterministic deadlocks. For high performance data pipelines tf.data is recommended.\n",
            "187/187 [==============================] - ETA: 0s - loss: 0.2173 - accuracy: 0.9214WARNING:tensorflow:multiprocessing can interact badly with TensorFlow, causing nondeterministic deadlocks. For high performance data pipelines tf.data is recommended.\n",
            "187/187 [==============================] - 26s 141ms/step - loss: 0.2173 - accuracy: 0.9214 - val_loss: 0.2087 - val_accuracy: 0.9243\n",
            "Epoch 50/50\n",
            "WARNING:tensorflow:multiprocessing can interact badly with TensorFlow, causing nondeterministic deadlocks. For high performance data pipelines tf.data is recommended.\n",
            "187/187 [==============================] - ETA: 0s - loss: 0.2131 - accuracy: 0.9230WARNING:tensorflow:multiprocessing can interact badly with TensorFlow, causing nondeterministic deadlocks. For high performance data pipelines tf.data is recommended.\n",
            "187/187 [==============================] - 26s 139ms/step - loss: 0.2131 - accuracy: 0.9230 - val_loss: 0.2101 - val_accuracy: 0.9206\n"
          ],
          "name": "stdout"
        }
      ]
    },
    {
      "cell_type": "code",
      "metadata": {
        "colab": {
          "base_uri": "https://localhost:8080/"
        },
        "id": "1kitcRCuE9jw",
        "outputId": "03922fbf-06f9-40cc-ea05-c0262f8cd6b0"
      },
      "source": [
        "score4 = cnn4.evaluate(X_test, y_test, verbose=0)\n",
        "print('Test loss:', score4[0])\n",
        "print('Test accuracy:', score4[1])"
      ],
      "execution_count": 15,
      "outputs": [
        {
          "output_type": "stream",
          "text": [
            "Test loss: 0.17811565101146698\n",
            "Test accuracy: 0.9351000189781189\n"
          ],
          "name": "stdout"
        }
      ]
    },
    {
      "cell_type": "code",
      "metadata": {
        "colab": {
          "base_uri": "https://localhost:8080/"
        },
        "id": "IoFX6uH9FD8r",
        "outputId": "9a5b5df0-714b-4c76-848c-54ed45a1efd9"
      },
      "source": [
        "history4_dict = history4.history\n",
        "history4_dict.keys()\n"
      ],
      "execution_count": 16,
      "outputs": [
        {
          "output_type": "execute_result",
          "data": {
            "text/plain": [
              "dict_keys(['loss', 'accuracy', 'val_loss', 'val_accuracy'])"
            ]
          },
          "metadata": {
            "tags": []
          },
          "execution_count": 16
        }
      ]
    },
    {
      "cell_type": "code",
      "metadata": {
        "colab": {
          "base_uri": "https://localhost:8080/",
          "height": 545
        },
        "id": "SLh7atq1FAdj",
        "outputId": "2d3a248b-a9f7-4e59-f45d-bc76cfd86474"
      },
      "source": [
        "\n",
        "import matplotlib.pyplot as plt\n",
        "%matplotlib inline\n",
        "\n",
        "accuracy = history4.history['accuracy']\n",
        "val_accuracy = history4.history['val_accuracy']\n",
        "loss = history4.history['loss']\n",
        "val_loss = history4.history['val_loss']\n",
        "epochs = range(len(accuracy))\n",
        "\n",
        "plt.plot(epochs, accuracy, 'bo', label='Training accuracy')\n",
        "plt.plot(epochs, val_accuracy, 'b', label='Validation accuracy')\n",
        "plt.title('Training and validation accuracy')\n",
        "plt.legend()\n",
        "plt.figure()\n",
        "\n",
        "plt.plot(epochs, loss, 'bo', label='Training loss')\n",
        "plt.plot(epochs, val_loss, 'b', label='Validation loss')\n",
        "plt.title('Training and validation loss')\n",
        "plt.legend()\n",
        "plt.show()"
      ],
      "execution_count": 17,
      "outputs": [
        {
          "output_type": "display_data",
          "data": {
            "image/png": "[encoded data removed]",
            "text/plain": [
              "<Figure size 432x288 with 1 Axes>"
            ]
          },
          "metadata": {
            "tags": [],
            "needs_background": "light"
          }
        },
        {
          "output_type": "display_data",
          "data": {
            "image/png": "[encoded data removed]",
            "text/plain": [
              "<Figure size 432x288 with 1 Axes>"
            ]
          },
          "metadata": {
            "tags": [],
            "needs_background": "light"
          }
        }
      ]
    }
  ]
}